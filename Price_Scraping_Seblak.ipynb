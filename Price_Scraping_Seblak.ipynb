{
 "cells": [
  {
   "cell_type": "markdown",
   "metadata": {},
   "source": [
    "Program ini dibuat untuk membersihkan data yang berasal dari tokopedia dan telah berhasil scraping oleh program lain dan di import ke program ini. Program ini berguna untuk membersihkan data tersebut serta berusaha menganalisis data itu. Selanjutnya hasil analisis dari data itu akan membantu pebisnis untuk mengambil keputusan terbaik berdasarkan data yang telah kita peroleh. "
   ]
  },
  {
   "cell_type": "markdown",
   "metadata": {},
   "source": [
    "# Intro\n",
    "Sebelum kita memasuki proses importing data maka kita akan membuat short summary mengenai apa yang akan kita lakukan disini. Kita sudah mendapatkan data dari 10 halaman tokopedia dengan kata kunci seblak. Dari data ini kita akan berusaha untuk mendapatkan insight dari data itu. Saya sebagai data analis lulusan hacktiv 8 akan menambah penghasilan dengan berjualan dropship dengan partner bisnis kita. Maka kita akan mendapatkan info-info penting untuk jualan saya. Dikarenakan saya ini akan jualan seblak online maka kita harus sesuai dengan permintaan pasar dan posisi pasar kita nantinya, dengan ini kita mendapatkan gambaran yang cocok dari pasar yang akan kita masuki. Usaha saya akan menjadi masuk akal karena dibacking oleh data driven decision. Pengambilan data dari tokped ini akan sangat cocok sekali karena kita akan berfokus pada penjualan online terlebih dahulu. Perlu diingat data ini diambil pada hari jumat 23 Agustus 2024 sehingga bisa dipertimbangkan penggunaan data ini karena data di tokopedia sendiri bersifat dinamis dan berganti ganti terus setiap waktu karena itu diposting oleh user penjual, user pembeli dan tokopedia untuk item iklan."
   ]
  },
  {
   "cell_type": "markdown",
   "metadata": {},
   "source": [
    "## Importing Library"
   ]
  },
  {
   "cell_type": "code",
   "execution_count": 89,
   "metadata": {},
   "outputs": [],
   "source": [
    "# importing library yang dibutuhkan untuk kodingan kali ini\n",
    "# pandass numpy dan scipy. numpy kemungkinan tidak digunakan tapi kita persiapkan dulu saja\n",
    "import pandas as pd \n",
    "import numpy as np \n",
    "import seaborn as sns"
   ]
  },
  {
   "cell_type": "markdown",
   "metadata": {},
   "source": [
    "Importing data ke notebook ini menggunakan library pandas untuk pembacaan csv file "
   ]
  },
  {
   "cell_type": "markdown",
   "metadata": {},
   "source": [
    "## Data Loading"
   ]
  },
  {
   "cell_type": "code",
   "execution_count": 90,
   "metadata": {},
   "outputs": [
    {
     "data": {
      "text/html": [
       "<div>\n",
       "<style scoped>\n",
       "    .dataframe tbody tr th:only-of-type {\n",
       "        vertical-align: middle;\n",
       "    }\n",
       "\n",
       "    .dataframe tbody tr th {\n",
       "        vertical-align: top;\n",
       "    }\n",
       "\n",
       "    .dataframe thead th {\n",
       "        text-align: right;\n",
       "    }\n",
       "</style>\n",
       "<table border=\"1\" class=\"dataframe\">\n",
       "  <thead>\n",
       "    <tr style=\"text-align: right;\">\n",
       "      <th></th>\n",
       "      <th>nama_produk</th>\n",
       "      <th>harga</th>\n",
       "      <th>nama_toko</th>\n",
       "      <th>kota</th>\n",
       "      <th>terjual</th>\n",
       "      <th>rating</th>\n",
       "    </tr>\n",
       "  </thead>\n",
       "  <tbody>\n",
       "    <tr>\n",
       "      <th>589</th>\n",
       "      <td>Keripik Seblak Bantet 50gr - 70gr</td>\n",
       "      <td>Rp3.450Rp3.500</td>\n",
       "      <td>Cemilan Murah BDL</td>\n",
       "      <td>Bandar Lampung</td>\n",
       "      <td>7 terjual</td>\n",
       "      <td>5.0</td>\n",
       "    </tr>\n",
       "    <tr>\n",
       "      <th>18</th>\n",
       "      <td>Seblak Rafael/Seblak Coet Instan Halal</td>\n",
       "      <td>Rp26.600Rp28.000</td>\n",
       "      <td>Foodstocks</td>\n",
       "      <td>Jakarta Selatan</td>\n",
       "      <td>500+ terjual</td>\n",
       "      <td>4.9</td>\n",
       "    </tr>\n",
       "    <tr>\n",
       "      <th>7</th>\n",
       "      <td>Seblak Instan Pedas Home Made</td>\n",
       "      <td>Rp3.500</td>\n",
       "      <td>the Dhecip</td>\n",
       "      <td>Tangerang Selatan</td>\n",
       "      <td>4rb+ terjual</td>\n",
       "      <td>4.9</td>\n",
       "    </tr>\n",
       "    <tr>\n",
       "      <th>221</th>\n",
       "      <td>Sajodo Snack - Seblak dan Keju Aroma</td>\n",
       "      <td>Rp18.500</td>\n",
       "      <td>LAPAK MILEA</td>\n",
       "      <td>Surabaya</td>\n",
       "      <td>10 terjual</td>\n",
       "      <td>4.0</td>\n",
       "    </tr>\n",
       "    <tr>\n",
       "      <th>688</th>\n",
       "      <td>KRUPUK JABLAY PEDAS 220GR/KRUPUK SEBLAK/CEMILA...</td>\n",
       "      <td>Rp12.500</td>\n",
       "      <td>Agen Snack Murah</td>\n",
       "      <td>Jakarta Barat</td>\n",
       "      <td>40+ terjual</td>\n",
       "      <td>4.9</td>\n",
       "    </tr>\n",
       "    <tr>\n",
       "      <th>536</th>\n",
       "      <td>PCV GEMBLONG SEBLAK 1Kg Ketempling Pedas  Keci...</td>\n",
       "      <td>Rp24.163</td>\n",
       "      <td>Pabrik Cemilan Viral</td>\n",
       "      <td>Kab. Kuningan</td>\n",
       "      <td>3 terjual</td>\n",
       "      <td>NaN</td>\n",
       "    </tr>\n",
       "    <tr>\n",
       "      <th>546</th>\n",
       "      <td>KERUPUK SEBLAK MENTAH ANEKA WARNA</td>\n",
       "      <td>Rp11.500</td>\n",
       "      <td>jajanangarut19</td>\n",
       "      <td>Jakarta Selatan</td>\n",
       "      <td>500+ terjual</td>\n",
       "      <td>4.8</td>\n",
       "    </tr>\n",
       "    <tr>\n",
       "      <th>694</th>\n",
       "      <td>Seblak Instan Juara Sehati Khas Bandung</td>\n",
       "      <td>Rp12.500</td>\n",
       "      <td>Juara Sehati</td>\n",
       "      <td>Kab. Bandung</td>\n",
       "      <td>60+ terjual</td>\n",
       "      <td>5.0</td>\n",
       "    </tr>\n",
       "    <tr>\n",
       "      <th>445</th>\n",
       "      <td>Seblak Instant Basranger Extra Pedas Daun Jeru...</td>\n",
       "      <td>Rp19.700Rp30.000</td>\n",
       "      <td>Gerai Snack Official Shop</td>\n",
       "      <td>Kab. Tangerang</td>\n",
       "      <td>100+ terjual</td>\n",
       "      <td>4.9</td>\n",
       "    </tr>\n",
       "    <tr>\n",
       "      <th>582</th>\n",
       "      <td>Kylafood Basreng Pedas</td>\n",
       "      <td>Rp12.500</td>\n",
       "      <td>Kylafood Jakarta</td>\n",
       "      <td>Jakarta Selatan</td>\n",
       "      <td>500+ terjual</td>\n",
       "      <td>5.0</td>\n",
       "    </tr>\n",
       "  </tbody>\n",
       "</table>\n",
       "</div>"
      ],
      "text/plain": [
       "                                           nama_produk             harga  \\\n",
       "589                  Keripik Seblak Bantet 50gr - 70gr    Rp3.450Rp3.500   \n",
       "18              Seblak Rafael/Seblak Coet Instan Halal  Rp26.600Rp28.000   \n",
       "7                        Seblak Instan Pedas Home Made           Rp3.500   \n",
       "221               Sajodo Snack - Seblak dan Keju Aroma          Rp18.500   \n",
       "688  KRUPUK JABLAY PEDAS 220GR/KRUPUK SEBLAK/CEMILA...          Rp12.500   \n",
       "536  PCV GEMBLONG SEBLAK 1Kg Ketempling Pedas  Keci...          Rp24.163   \n",
       "546                  KERUPUK SEBLAK MENTAH ANEKA WARNA          Rp11.500   \n",
       "694            Seblak Instan Juara Sehati Khas Bandung          Rp12.500   \n",
       "445  Seblak Instant Basranger Extra Pedas Daun Jeru...  Rp19.700Rp30.000   \n",
       "582                             Kylafood Basreng Pedas          Rp12.500   \n",
       "\n",
       "                     nama_toko               kota       terjual  rating  \n",
       "589          Cemilan Murah BDL     Bandar Lampung     7 terjual     5.0  \n",
       "18                  Foodstocks    Jakarta Selatan  500+ terjual     4.9  \n",
       "7                   the Dhecip  Tangerang Selatan  4rb+ terjual     4.9  \n",
       "221                LAPAK MILEA           Surabaya    10 terjual     4.0  \n",
       "688           Agen Snack Murah      Jakarta Barat   40+ terjual     4.9  \n",
       "536       Pabrik Cemilan Viral      Kab. Kuningan     3 terjual     NaN  \n",
       "546             jajanangarut19    Jakarta Selatan  500+ terjual     4.8  \n",
       "694               Juara Sehati       Kab. Bandung   60+ terjual     5.0  \n",
       "445  Gerai Snack Official Shop     Kab. Tangerang  100+ terjual     4.9  \n",
       "582           Kylafood Jakarta    Jakarta Selatan  500+ terjual     5.0  "
      ]
     },
     "execution_count": 90,
     "metadata": {},
     "output_type": "execute_result"
    }
   ],
   "source": [
    "# importing data ke notebook ini \n",
    "df=pd.read_csv(\"hasil.csv\")\n",
    "# menampilkan 50 data untuk dilihat bentukan datanya\n",
    "df.sample(10)"
   ]
  },
  {
   "cell_type": "markdown",
   "metadata": {},
   "source": [
    "Setelah kita mengimpor data, kita mencoba untuk eksplorasi data terlebih dahulu sample 10 dari data ini jadi kita bisa mengetahui gambaran data kita. Data ini terlihat cukup bersih namun masih ada ketidaksesuaian pada kolom harga. pada kolom harga sepertinya ada values yang memiliki double harga, setelah di cross check di website ternyata memang datanya seperti itu, dikarenakan value pertama pada doble values itu adalah harga diskon dan value kedua merupakan harga asli(harga sebelum diskon). Untuk nama produk dan nama toko biarkan seperti itu saja karena itu memang unik dan inputan user, dan pada terjual masih ada 500 + terjual atau 1rb terjual. Penggunaan bahasa ini kurang di pahami oleh mesin jadi perlu dihandling. "
   ]
  },
  {
   "cell_type": "code",
   "execution_count": 91,
   "metadata": {},
   "outputs": [
    {
     "data": {
      "text/plain": [
       "Index(['nama_produk', 'harga', 'nama_toko', 'kota', 'terjual', 'rating'], dtype='object')"
      ]
     },
     "execution_count": 91,
     "metadata": {},
     "output_type": "execute_result"
    }
   ],
   "source": [
    "#Penampilan Kolom \n",
    "df.columns\n",
    "# kemungkinan digunakan untuk looping nantinya dan pengecekan apakah ada aneh aneh pada kolom\n",
    "# ini harusnya aman karena pada data frame yang di import kita sendiri yang memberikan penamaan namun perlu dicek ulang"
   ]
  },
  {
   "cell_type": "markdown",
   "metadata": {},
   "source": [
    "penamaan kolom clear tak perlu dihandling."
   ]
  },
  {
   "cell_type": "code",
   "execution_count": 92,
   "metadata": {},
   "outputs": [
    {
     "data": {
      "text/plain": [
       "(808, 6)"
      ]
     },
     "execution_count": 92,
     "metadata": {},
     "output_type": "execute_result"
    }
   ],
   "source": [
    "#cek jumlah kolom dan baris \n",
    "df.shape"
   ]
  },
  {
   "cell_type": "markdown",
   "metadata": {},
   "source": [
    "data ini memiliki 808 baris dan 6 kolom. data cukup banyak seharusnya cukup untuk menggambarkan mayoritas pembeli di tokopedia. "
   ]
  },
  {
   "cell_type": "code",
   "execution_count": 93,
   "metadata": {},
   "outputs": [
    {
     "data": {
      "text/plain": [
       "nama_produk     0\n",
       "harga           0\n",
       "nama_toko       0\n",
       "kota            0\n",
       "terjual        25\n",
       "rating         63\n",
       "dtype: int64"
      ]
     },
     "execution_count": 93,
     "metadata": {},
     "output_type": "execute_result"
    }
   ],
   "source": [
    "#menghitung jumlah null value \n",
    "df.isna().sum()"
   ]
  },
  {
   "cell_type": "markdown",
   "metadata": {},
   "source": [
    "Seperti ditemukan diatas ditemukan 25 values kosong pada kolom terjual dan 63 values kosong pada kolom rating. Beberapa kasus data null values dihilangkan dan ada yang dipertahankan maka kita coba lihat dulu seperti apa bentukannya baris dan kolom-kolom missing values apakah setimpal(worth) untuk tidak dipakai atau lebih baik dipakai."
   ]
  },
  {
   "cell_type": "code",
   "execution_count": 94,
   "metadata": {},
   "outputs": [
    {
     "data": {
      "text/html": [
       "<div>\n",
       "<style scoped>\n",
       "    .dataframe tbody tr th:only-of-type {\n",
       "        vertical-align: middle;\n",
       "    }\n",
       "\n",
       "    .dataframe tbody tr th {\n",
       "        vertical-align: top;\n",
       "    }\n",
       "\n",
       "    .dataframe thead th {\n",
       "        text-align: right;\n",
       "    }\n",
       "</style>\n",
       "<table border=\"1\" class=\"dataframe\">\n",
       "  <thead>\n",
       "    <tr style=\"text-align: right;\">\n",
       "      <th></th>\n",
       "      <th>nama_produk</th>\n",
       "      <th>harga</th>\n",
       "      <th>nama_toko</th>\n",
       "      <th>kota</th>\n",
       "      <th>terjual</th>\n",
       "      <th>rating</th>\n",
       "    </tr>\n",
       "  </thead>\n",
       "  <tbody>\n",
       "    <tr>\n",
       "      <th>83</th>\n",
       "      <td>Cemilan Snack Kekinian | varian Kerupuk Seblak...</td>\n",
       "      <td>Rp8.000</td>\n",
       "      <td>SNACK TIMEE</td>\n",
       "      <td>Medan</td>\n",
       "      <td>NaN</td>\n",
       "      <td>NaN</td>\n",
       "    </tr>\n",
       "    <tr>\n",
       "      <th>84</th>\n",
       "      <td>Cemilan Snack Krupuk Seblak Pedas Bawang Kencu...</td>\n",
       "      <td>Rp8.500</td>\n",
       "      <td>Toko Jajan Murah Online</td>\n",
       "      <td>Surabaya</td>\n",
       "      <td>NaN</td>\n",
       "      <td>NaN</td>\n",
       "    </tr>\n",
       "    <tr>\n",
       "      <th>85</th>\n",
       "      <td>Kerupuk seblak mentah/kerupuk ikan udang/kerup...</td>\n",
       "      <td>Rp7.500</td>\n",
       "      <td>Ambar rempah</td>\n",
       "      <td>Tangerang Selatan</td>\n",
       "      <td>NaN</td>\n",
       "      <td>NaN</td>\n",
       "    </tr>\n",
       "    <tr>\n",
       "      <th>96</th>\n",
       "      <td>kerupuk seblak ALN2 kemasan 100 gr</td>\n",
       "      <td>Rp12.000</td>\n",
       "      <td>grosir sembako Aln2</td>\n",
       "      <td>Kab. Bandung Barat</td>\n",
       "      <td>NaN</td>\n",
       "      <td>NaN</td>\n",
       "    </tr>\n",
       "    <tr>\n",
       "      <th>97</th>\n",
       "      <td>PROMO KEMERDEKAAN SEBLAK + KRISANG 200 GR</td>\n",
       "      <td>Rp79.000</td>\n",
       "      <td>Central Seblak Nusantara</td>\n",
       "      <td>Tangerang Selatan</td>\n",
       "      <td>NaN</td>\n",
       "      <td>NaN</td>\n",
       "    </tr>\n",
       "    <tr>\n",
       "      <th>...</th>\n",
       "      <td>...</td>\n",
       "      <td>...</td>\n",
       "      <td>...</td>\n",
       "      <td>...</td>\n",
       "      <td>...</td>\n",
       "      <td>...</td>\n",
       "    </tr>\n",
       "    <tr>\n",
       "      <th>751</th>\n",
       "      <td>Kerupuk seblak pedas 500 Grm / kerupuk seblak ...</td>\n",
       "      <td>Rp22.500</td>\n",
       "      <td>adistri snack</td>\n",
       "      <td>Kab.Ciamis</td>\n",
       "      <td>1 terjual</td>\n",
       "      <td>NaN</td>\n",
       "    </tr>\n",
       "    <tr>\n",
       "      <th>783</th>\n",
       "      <td>Pilus kencur pilus cikur 1 kg toping seblak ba...</td>\n",
       "      <td>Rp30.000</td>\n",
       "      <td>WaroenkDjajan</td>\n",
       "      <td>Kab. Sukabumi</td>\n",
       "      <td>1 terjual</td>\n",
       "      <td>NaN</td>\n",
       "    </tr>\n",
       "    <tr>\n",
       "      <th>786</th>\n",
       "      <td>CIRENG SALJU KUAH SEBLAK</td>\n",
       "      <td>Rp11.000</td>\n",
       "      <td>MJJ303</td>\n",
       "      <td>Kab. Mojokerto</td>\n",
       "      <td>7 terjual</td>\n",
       "      <td>NaN</td>\n",
       "    </tr>\n",
       "    <tr>\n",
       "      <th>796</th>\n",
       "      <td>MIE SEBLAK MURAH ENAK MANTAP MAKNYUSS</td>\n",
       "      <td>Rp13.999</td>\n",
       "      <td>dhioshopi</td>\n",
       "      <td>Denpasar</td>\n",
       "      <td>NaN</td>\n",
       "      <td>NaN</td>\n",
       "    </tr>\n",
       "    <tr>\n",
       "      <th>798</th>\n",
       "      <td>Paket Toping Seblak</td>\n",
       "      <td>Rp85.000</td>\n",
       "      <td>Akku_shp</td>\n",
       "      <td>Kab. Purwakarta</td>\n",
       "      <td>NaN</td>\n",
       "      <td>NaN</td>\n",
       "    </tr>\n",
       "  </tbody>\n",
       "</table>\n",
       "<p>63 rows × 6 columns</p>\n",
       "</div>"
      ],
      "text/plain": [
       "                                           nama_produk     harga  \\\n",
       "83   Cemilan Snack Kekinian | varian Kerupuk Seblak...   Rp8.000   \n",
       "84   Cemilan Snack Krupuk Seblak Pedas Bawang Kencu...   Rp8.500   \n",
       "85   Kerupuk seblak mentah/kerupuk ikan udang/kerup...   Rp7.500   \n",
       "96                  kerupuk seblak ALN2 kemasan 100 gr  Rp12.000   \n",
       "97           PROMO KEMERDEKAAN SEBLAK + KRISANG 200 GR  Rp79.000   \n",
       "..                                                 ...       ...   \n",
       "751  Kerupuk seblak pedas 500 Grm / kerupuk seblak ...  Rp22.500   \n",
       "783  Pilus kencur pilus cikur 1 kg toping seblak ba...  Rp30.000   \n",
       "786                           CIRENG SALJU KUAH SEBLAK  Rp11.000   \n",
       "796              MIE SEBLAK MURAH ENAK MANTAP MAKNYUSS  Rp13.999   \n",
       "798                                Paket Toping Seblak  Rp85.000   \n",
       "\n",
       "                    nama_toko                kota    terjual  rating  \n",
       "83                SNACK TIMEE               Medan        NaN     NaN  \n",
       "84    Toko Jajan Murah Online            Surabaya        NaN     NaN  \n",
       "85               Ambar rempah   Tangerang Selatan        NaN     NaN  \n",
       "96        grosir sembako Aln2  Kab. Bandung Barat        NaN     NaN  \n",
       "97   Central Seblak Nusantara   Tangerang Selatan        NaN     NaN  \n",
       "..                        ...                 ...        ...     ...  \n",
       "751             adistri snack          Kab.Ciamis  1 terjual     NaN  \n",
       "783             WaroenkDjajan       Kab. Sukabumi  1 terjual     NaN  \n",
       "786                    MJJ303      Kab. Mojokerto  7 terjual     NaN  \n",
       "796                 dhioshopi            Denpasar        NaN     NaN  \n",
       "798                  Akku_shp     Kab. Purwakarta        NaN     NaN  \n",
       "\n",
       "[63 rows x 6 columns]"
      ]
     },
     "execution_count": 94,
     "metadata": {},
     "output_type": "execute_result"
    }
   ],
   "source": [
    "df[df.isna().any(axis=1)]\n"
   ]
  },
  {
   "cell_type": "markdown",
   "metadata": {},
   "source": [
    "dari tampilan data yang missing values memang data ini tidak worth untuk tidak dipakai karena masih mengandung informasi seperti kota dan harga. kota dan harga harusnya bisa sebagai pertimbangan kita untuk jualan online di marketplace ini. "
   ]
  },
  {
   "cell_type": "code",
   "execution_count": 95,
   "metadata": {},
   "outputs": [
    {
     "data": {
      "text/plain": [
       "83"
      ]
     },
     "execution_count": 95,
     "metadata": {},
     "output_type": "execute_result"
    }
   ],
   "source": [
    "#Pengecekan data duplikasi\n",
    "df.duplicated().sum()"
   ]
  },
  {
   "cell_type": "markdown",
   "metadata": {},
   "source": [
    "data masih terdapat duplikasi apakah ini beneran duplikasi yang atas bawah sama semua atau bagaimana ya kita harus lihat bentukannya dulu"
   ]
  },
  {
   "cell_type": "code",
   "execution_count": 96,
   "metadata": {},
   "outputs": [
    {
     "data": {
      "text/html": [
       "<div>\n",
       "<style scoped>\n",
       "    .dataframe tbody tr th:only-of-type {\n",
       "        vertical-align: middle;\n",
       "    }\n",
       "\n",
       "    .dataframe tbody tr th {\n",
       "        vertical-align: top;\n",
       "    }\n",
       "\n",
       "    .dataframe thead th {\n",
       "        text-align: right;\n",
       "    }\n",
       "</style>\n",
       "<table border=\"1\" class=\"dataframe\">\n",
       "  <thead>\n",
       "    <tr style=\"text-align: right;\">\n",
       "      <th></th>\n",
       "      <th>nama_produk</th>\n",
       "      <th>harga</th>\n",
       "      <th>nama_toko</th>\n",
       "      <th>kota</th>\n",
       "      <th>terjual</th>\n",
       "      <th>rating</th>\n",
       "    </tr>\n",
       "  </thead>\n",
       "  <tbody>\n",
       "    <tr>\n",
       "      <th>235</th>\n",
       "      <td>cuanki lidah 150 pcs toping seblak baso aci</td>\n",
       "      <td>Rp35.111Rp35.999</td>\n",
       "      <td>CUANKI CULAMETAN</td>\n",
       "      <td>Kab. Garut</td>\n",
       "      <td>500+ terjual</td>\n",
       "      <td>4.9</td>\n",
       "    </tr>\n",
       "    <tr>\n",
       "      <th>239</th>\n",
       "      <td>Kylafood Seblak Kwetiaw play</td>\n",
       "      <td>Rp21.150Rp23.500</td>\n",
       "      <td>kylafood</td>\n",
       "      <td>Bandung</td>\n",
       "      <td>500+ terjual</td>\n",
       "      <td>4.9</td>\n",
       "    </tr>\n",
       "    <tr>\n",
       "      <th>250</th>\n",
       "      <td>Seblak Hot Spicy By Bapper Food / Seblak Insta...</td>\n",
       "      <td>Rp19.110Rp21.000</td>\n",
       "      <td>Foodstocks</td>\n",
       "      <td>Jakarta Selatan</td>\n",
       "      <td>100+ terjual</td>\n",
       "      <td>5.0</td>\n",
       "    </tr>\n",
       "    <tr>\n",
       "      <th>251</th>\n",
       "      <td>cuanki tahu gepeng isi 50 pcs toping seblak ba...</td>\n",
       "      <td>Rp19.500</td>\n",
       "      <td>CUANKI CULAMETAN</td>\n",
       "      <td>Kab. Garut</td>\n",
       "      <td>100+ terjual</td>\n",
       "      <td>4.9</td>\n",
       "    </tr>\n",
       "    <tr>\n",
       "      <th>253</th>\n",
       "      <td>Kylafood Seblak Rempah Autentik Isi (24pcs)</td>\n",
       "      <td>Rp294.120Rp309.600</td>\n",
       "      <td>kylafood</td>\n",
       "      <td>Bandung</td>\n",
       "      <td>14 terjual</td>\n",
       "      <td>5.0</td>\n",
       "    </tr>\n",
       "    <tr>\n",
       "      <th>254</th>\n",
       "      <td>cuanki lidah asli garut isi 150 pcs</td>\n",
       "      <td>Rp32.500</td>\n",
       "      <td>kira3arut</td>\n",
       "      <td>Kab. Garut</td>\n",
       "      <td>10rb+ terjual</td>\n",
       "      <td>4.9</td>\n",
       "    </tr>\n",
       "    <tr>\n",
       "      <th>255</th>\n",
       "      <td>cuanki lidah asli garut isi 150 pcs</td>\n",
       "      <td>Rp32.500</td>\n",
       "      <td>kira3arut</td>\n",
       "      <td>Kab. Garut</td>\n",
       "      <td>10rb+ terjual</td>\n",
       "      <td>4.9</td>\n",
       "    </tr>\n",
       "    <tr>\n",
       "      <th>258</th>\n",
       "      <td>BUMBU BASO ACI SEBLAK 100gr</td>\n",
       "      <td>Rp12.000</td>\n",
       "      <td>jajanangarut19</td>\n",
       "      <td>Jakarta Selatan</td>\n",
       "      <td>250+ terjual</td>\n",
       "      <td>4.9</td>\n",
       "    </tr>\n",
       "    <tr>\n",
       "      <th>269</th>\n",
       "      <td>Seblak Instant Basranger Extra Pedas Daun Jeru...</td>\n",
       "      <td>Rp19.700Rp30.000</td>\n",
       "      <td>Gerai Snack Official Shop</td>\n",
       "      <td>Kab. Tangerang</td>\n",
       "      <td>100+ terjual</td>\n",
       "      <td>4.9</td>\n",
       "    </tr>\n",
       "    <tr>\n",
       "      <th>273</th>\n",
       "      <td>Kylafood Mix Pentol Kuah dan Seblak Original</td>\n",
       "      <td>Rp42.500Rp50.000</td>\n",
       "      <td>kylafood</td>\n",
       "      <td>Bandung</td>\n",
       "      <td>60+ terjual</td>\n",
       "      <td>4.9</td>\n",
       "    </tr>\n",
       "  </tbody>\n",
       "</table>\n",
       "</div>"
      ],
      "text/plain": [
       "                                           nama_produk               harga  \\\n",
       "235        cuanki lidah 150 pcs toping seblak baso aci    Rp35.111Rp35.999   \n",
       "239                       Kylafood Seblak Kwetiaw play    Rp21.150Rp23.500   \n",
       "250  Seblak Hot Spicy By Bapper Food / Seblak Insta...    Rp19.110Rp21.000   \n",
       "251  cuanki tahu gepeng isi 50 pcs toping seblak ba...            Rp19.500   \n",
       "253        Kylafood Seblak Rempah Autentik Isi (24pcs)  Rp294.120Rp309.600   \n",
       "254                cuanki lidah asli garut isi 150 pcs            Rp32.500   \n",
       "255                cuanki lidah asli garut isi 150 pcs            Rp32.500   \n",
       "258                        BUMBU BASO ACI SEBLAK 100gr            Rp12.000   \n",
       "269  Seblak Instant Basranger Extra Pedas Daun Jeru...    Rp19.700Rp30.000   \n",
       "273       Kylafood Mix Pentol Kuah dan Seblak Original    Rp42.500Rp50.000   \n",
       "\n",
       "                     nama_toko             kota        terjual  rating  \n",
       "235           CUANKI CULAMETAN       Kab. Garut   500+ terjual     4.9  \n",
       "239                   kylafood          Bandung   500+ terjual     4.9  \n",
       "250                 Foodstocks  Jakarta Selatan   100+ terjual     5.0  \n",
       "251           CUANKI CULAMETAN       Kab. Garut   100+ terjual     4.9  \n",
       "253                   kylafood          Bandung     14 terjual     5.0  \n",
       "254                  kira3arut       Kab. Garut  10rb+ terjual     4.9  \n",
       "255                  kira3arut       Kab. Garut  10rb+ terjual     4.9  \n",
       "258             jajanangarut19  Jakarta Selatan   250+ terjual     4.9  \n",
       "269  Gerai Snack Official Shop   Kab. Tangerang   100+ terjual     4.9  \n",
       "273                   kylafood          Bandung    60+ terjual     4.9  "
      ]
     },
     "execution_count": 96,
     "metadata": {},
     "output_type": "execute_result"
    }
   ],
   "source": [
    "# Menampilkan hanya baris-baris yang merupakan duplikat dan 2 baris yang sama duplikat akan terlihat\n",
    "df[df.duplicated(keep=False)].iloc[70:80]\n"
   ]
  },
  {
   "cell_type": "markdown",
   "metadata": {},
   "source": [
    "data memang benar benar terduplikat atas bawah seperti index nomor 254 dan 255 dan ini perlu dibuang saja dari dataframe karena data duplikat bisa saja merubah hasil akhir analisis kita. Mengapa ini terjadi? sepertinya itu karena itu adalah produk iklan(produk yang diiklankan oleh tokped) dengan membayar dan ditandai dengan ada tulisan ad pada gambarnya. jadi tokopedia bisa menaruh dan menduplikasi produk itu dimanapun dan sesukanya. karena emang itu monetize nya mereka (tokopedia). "
   ]
  },
  {
   "cell_type": "markdown",
   "metadata": {},
   "source": [
    "setelah melihat bentukan dari duplikasi kita melihat datatype dari setiap kolom dahulu"
   ]
  },
  {
   "cell_type": "code",
   "execution_count": 97,
   "metadata": {},
   "outputs": [
    {
     "name": "stdout",
     "output_type": "stream",
     "text": [
      "<class 'pandas.core.frame.DataFrame'>\n",
      "RangeIndex: 808 entries, 0 to 807\n",
      "Data columns (total 6 columns):\n",
      " #   Column       Non-Null Count  Dtype  \n",
      "---  ------       --------------  -----  \n",
      " 0   nama_produk  808 non-null    object \n",
      " 1   harga        808 non-null    object \n",
      " 2   nama_toko    808 non-null    object \n",
      " 3   kota         808 non-null    object \n",
      " 4   terjual      783 non-null    object \n",
      " 5   rating       745 non-null    float64\n",
      "dtypes: float64(1), object(5)\n",
      "memory usage: 38.0+ KB\n"
     ]
    }
   ],
   "source": [
    "df.info()"
   ]
  },
  {
   "cell_type": "markdown",
   "metadata": {},
   "source": [
    "data type masih banyak yang salah. contoh pada harga harusnya berbentuk float atau integer. pada terjual harusnya juga berbentuk integer ini harus dihandling. "
   ]
  },
  {
   "cell_type": "markdown",
   "metadata": {},
   "source": [
    "## Kesimpulan Eksplorasi\n",
    "\n",
    "Data ini sudah mantap oke dan bisa dipakai namun harus dibersihkan dan dihandle. \n",
    "1. Pembersihan kolom kolom yang memiliki pengotor seperti simbol rp dan tulisan tulisan mempermudah seperti rb + dan lain lain\n",
    "2. Handling missing value tidak perlu dilakukan karena memang itu natural dari sana karena memang toko itu baru saja dibuat atau seller baru\n",
    "3. Handling duplikasi data tidak usah dipakai dan keep 1 \n",
    "4. Penggantian Type Data menjadi sesuai yang komputer/mesin/device harapkan. Bilangan harus data bilangan kalimat harus sesuai datatype kalimat. "
   ]
  },
  {
   "cell_type": "markdown",
   "metadata": {},
   "source": [
    "# Data Cleaning "
   ]
  },
  {
   "cell_type": "markdown",
   "metadata": {},
   "source": [
    "### Pembersihan Kolom dari Values Tak Diinginkan"
   ]
  },
  {
   "cell_type": "code",
   "execution_count": 98,
   "metadata": {},
   "outputs": [
    {
     "data": {
      "text/html": [
       "<div>\n",
       "<style scoped>\n",
       "    .dataframe tbody tr th:only-of-type {\n",
       "        vertical-align: middle;\n",
       "    }\n",
       "\n",
       "    .dataframe tbody tr th {\n",
       "        vertical-align: top;\n",
       "    }\n",
       "\n",
       "    .dataframe thead th {\n",
       "        text-align: right;\n",
       "    }\n",
       "</style>\n",
       "<table border=\"1\" class=\"dataframe\">\n",
       "  <thead>\n",
       "    <tr style=\"text-align: right;\">\n",
       "      <th></th>\n",
       "      <th>nama_produk</th>\n",
       "      <th>harga</th>\n",
       "      <th>nama_toko</th>\n",
       "      <th>kota</th>\n",
       "      <th>terjual</th>\n",
       "      <th>rating</th>\n",
       "    </tr>\n",
       "  </thead>\n",
       "  <tbody>\n",
       "    <tr>\n",
       "      <th>50</th>\n",
       "      <td>Makaroni bantet pedas daun jeruk 1kg makroni b...</td>\n",
       "      <td>Rp14.960</td>\n",
       "      <td>camilanqu_shop</td>\n",
       "      <td>Kab. Majalengka</td>\n",
       "      <td>26 terjual</td>\n",
       "      <td>4.7</td>\n",
       "    </tr>\n",
       "    <tr>\n",
       "      <th>51</th>\n",
       "      <td>seblak instant sajodo snak</td>\n",
       "      <td>Rp18.950</td>\n",
       "      <td>hikmah berkah jaya</td>\n",
       "      <td>Jakarta Barat</td>\n",
       "      <td>1rb+ terjual</td>\n",
       "      <td>4.9</td>\n",
       "    </tr>\n",
       "    <tr>\n",
       "      <th>52</th>\n",
       "      <td>seblak instant komplit bumbu cikruh bandung au...</td>\n",
       "      <td>Rp6.800</td>\n",
       "      <td>AUFARO SNACK</td>\n",
       "      <td>Kab. Bandung Barat</td>\n",
       "      <td>500+ terjual</td>\n",
       "      <td>4.9</td>\n",
       "    </tr>\n",
       "    <tr>\n",
       "      <th>53</th>\n",
       "      <td>paket mix 12PCS boci cuanki seblak</td>\n",
       "      <td>Rp38.999</td>\n",
       "      <td>nayismail</td>\n",
       "      <td>Cimahi</td>\n",
       "      <td>50+ terjual</td>\n",
       "      <td>4.9</td>\n",
       "    </tr>\n",
       "    <tr>\n",
       "      <th>54</th>\n",
       "      <td>Cuanki Lidah 50 pcs topingan seblak baso Aci b...</td>\n",
       "      <td>Rp14.000</td>\n",
       "      <td>Distributor Cuanki dan Seblak</td>\n",
       "      <td>Kab. Bekasi</td>\n",
       "      <td>750+ terjual</td>\n",
       "      <td>4.9</td>\n",
       "    </tr>\n",
       "    <tr>\n",
       "      <th>55</th>\n",
       "      <td>Seblak pedas kerupuk pedas kiloan 1 kg</td>\n",
       "      <td>Rp35.000</td>\n",
       "      <td>RIKI STORE 97</td>\n",
       "      <td>Kab. Bogor</td>\n",
       "      <td>100+ terjual</td>\n",
       "      <td>4.7</td>\n",
       "    </tr>\n",
       "    <tr>\n",
       "      <th>56</th>\n",
       "      <td>3 SEBLAK FREE BASO ACI</td>\n",
       "      <td>Rp61.583Rp90.000</td>\n",
       "      <td>Sajodo Snack &amp; Food</td>\n",
       "      <td>Tasikmalaya</td>\n",
       "      <td>100+ terjual</td>\n",
       "      <td>4.9</td>\n",
       "    </tr>\n",
       "    <tr>\n",
       "      <th>57</th>\n",
       "      <td>GURILEM MINI 1KG Siomay Kering Toping Baso Aci...</td>\n",
       "      <td>Rp29.000</td>\n",
       "      <td>Pedas Gilaa</td>\n",
       "      <td>Surabaya</td>\n",
       "      <td>1rb+ terjual</td>\n",
       "      <td>4.9</td>\n",
       "    </tr>\n",
       "    <tr>\n",
       "      <th>58</th>\n",
       "      <td>Agen Seblak Mommy</td>\n",
       "      <td>Rp9.999</td>\n",
       "      <td>Kenal Jaya Bandung</td>\n",
       "      <td>Bandung</td>\n",
       "      <td>4rb+ terjual</td>\n",
       "      <td>4.9</td>\n",
       "    </tr>\n",
       "    <tr>\n",
       "      <th>59</th>\n",
       "      <td>SEBLAK INSTAN NGABRET BANDUNG - SURABAYA SEBLA...</td>\n",
       "      <td>Rp5.048Rp5.099</td>\n",
       "      <td>Uai Food</td>\n",
       "      <td>Surabaya</td>\n",
       "      <td>50+ terjual</td>\n",
       "      <td>4.5</td>\n",
       "    </tr>\n",
       "    <tr>\n",
       "      <th>60</th>\n",
       "      <td>S1 Seblak Instan Bang Satria Seuhah</td>\n",
       "      <td>Rp28.000</td>\n",
       "      <td>Ruth Store'</td>\n",
       "      <td>Jakarta Pusat</td>\n",
       "      <td>6 terjual</td>\n",
       "      <td>5.0</td>\n",
       "    </tr>\n",
       "    <tr>\n",
       "      <th>61</th>\n",
       "      <td>Cuankie Tahu Gepeng Topping Baso Aci Seblak</td>\n",
       "      <td>Rp22.499</td>\n",
       "      <td>Pusat Cuankie &amp; Cemilan Frozen</td>\n",
       "      <td>Jakarta Timur</td>\n",
       "      <td>100+ terjual</td>\n",
       "      <td>4.9</td>\n",
       "    </tr>\n",
       "    <tr>\n",
       "      <th>62</th>\n",
       "      <td>3 BASO ACI FREE SEBLAK SAJODO SNACK &amp; FOOD</td>\n",
       "      <td>Rp62.000Rp90.000</td>\n",
       "      <td>Sajodo Snack &amp; Food</td>\n",
       "      <td>Tasikmalaya</td>\n",
       "      <td>100+ terjual</td>\n",
       "      <td>5.0</td>\n",
       "    </tr>\n",
       "    <tr>\n",
       "      <th>63</th>\n",
       "      <td>SEBRING KRUPUK KERUPUK SEBLAK KERING PEDAS DAU...</td>\n",
       "      <td>Rp16.000</td>\n",
       "      <td>Aydaa Snack</td>\n",
       "      <td>Surakarta</td>\n",
       "      <td>100+ terjual</td>\n",
       "      <td>4.9</td>\n",
       "    </tr>\n",
       "    <tr>\n",
       "      <th>64</th>\n",
       "      <td>Cipak Koceak Cirambay Cireng Seblak Basreng Bo...</td>\n",
       "      <td>Rp10.000</td>\n",
       "      <td>AMANA SNACK</td>\n",
       "      <td>Tangerang Selatan</td>\n",
       "      <td>100+ terjual</td>\n",
       "      <td>4.7</td>\n",
       "    </tr>\n",
       "    <tr>\n",
       "      <th>65</th>\n",
       "      <td>MAKARONI bantet 70gr krupuk SEBLAK krupuk UDAN...</td>\n",
       "      <td>Rp2.600</td>\n",
       "      <td>NomeL Shop</td>\n",
       "      <td>Surabaya</td>\n",
       "      <td>500+ terjual</td>\n",
       "      <td>4.8</td>\n",
       "    </tr>\n",
       "    <tr>\n",
       "      <th>66</th>\n",
       "      <td>Kylafood Paket (3 Seblak Original 2 Batagor kuah)</td>\n",
       "      <td>Rp95.000Rp121.500</td>\n",
       "      <td>kylafood</td>\n",
       "      <td>Bandung</td>\n",
       "      <td>3rb+ terjual</td>\n",
       "      <td>4.9</td>\n",
       "    </tr>\n",
       "    <tr>\n",
       "      <th>67</th>\n",
       "      <td>TOPPING SEBLAK/BASO ACI PAKET MIX TERMURAH/CUA...</td>\n",
       "      <td>Rp34.999</td>\n",
       "      <td>ArfaOnlineShop</td>\n",
       "      <td>Tangerang</td>\n",
       "      <td>100+ terjual</td>\n",
       "      <td>4.9</td>\n",
       "    </tr>\n",
       "    <tr>\n",
       "      <th>68</th>\n",
       "      <td>Seblak Rafael, Seblak Coet Instan Halal</td>\n",
       "      <td>Rp25.000</td>\n",
       "      <td>Brother Meat Shop</td>\n",
       "      <td>Depok</td>\n",
       "      <td>500+ terjual</td>\n",
       "      <td>5.0</td>\n",
       "    </tr>\n",
       "    <tr>\n",
       "      <th>69</th>\n",
       "      <td>KerUpuk Seblak Kerupuk Beton Pedas Daun Jeruk ...</td>\n",
       "      <td>Rp15.000</td>\n",
       "      <td>Mega_Snack_095</td>\n",
       "      <td>Cimahi</td>\n",
       "      <td>24 terjual</td>\n",
       "      <td>4.7</td>\n",
       "    </tr>\n",
       "    <tr>\n",
       "      <th>70</th>\n",
       "      <td>Seblak Komplit⠀⠀</td>\n",
       "      <td>Rp5.400Rp5.500</td>\n",
       "      <td>lisdhacollection</td>\n",
       "      <td>Kab. Garut</td>\n",
       "      <td>4rb+ terjual</td>\n",
       "      <td>4.8</td>\n",
       "    </tr>\n",
       "    <tr>\n",
       "      <th>71</th>\n",
       "      <td>Kerupuk seblak kering kencur 500gram /seblak k...</td>\n",
       "      <td>Rp28.700Rp30.000</td>\n",
       "      <td>oyun kriukzz</td>\n",
       "      <td>Jakarta Barat</td>\n",
       "      <td>750+ terjual</td>\n",
       "      <td>4.9</td>\n",
       "    </tr>\n",
       "    <tr>\n",
       "      <th>72</th>\n",
       "      <td>bumbu seblak basah instan</td>\n",
       "      <td>Rp26.666</td>\n",
       "      <td>Kickball Official</td>\n",
       "      <td>Bandung</td>\n",
       "      <td>250+ terjual</td>\n",
       "      <td>4.7</td>\n",
       "    </tr>\n",
       "    <tr>\n",
       "      <th>73</th>\n",
       "      <td>Baso Aci &amp; Seblak Home Made</td>\n",
       "      <td>Rp5.500</td>\n",
       "      <td>Rodhi snack</td>\n",
       "      <td>Kab. Nganjuk</td>\n",
       "      <td>30+ terjual</td>\n",
       "      <td>5.0</td>\n",
       "    </tr>\n",
       "    <tr>\n",
       "      <th>74</th>\n",
       "      <td>Basreng 250GR SEBLAK PEDAS MANIS ORIGINAL JONT...</td>\n",
       "      <td>Rp14.850</td>\n",
       "      <td>Grosir Besar Kalimantan</td>\n",
       "      <td>Banjarbaru</td>\n",
       "      <td>20 terjual</td>\n",
       "      <td>4.8</td>\n",
       "    </tr>\n",
       "    <tr>\n",
       "      <th>75</th>\n",
       "      <td>Kerupuk seblak beton as kering cikruh 1 kg bum...</td>\n",
       "      <td>Rp49.000</td>\n",
       "      <td>kerudung bunga</td>\n",
       "      <td>Cimahi</td>\n",
       "      <td>25 terjual</td>\n",
       "      <td>4.8</td>\n",
       "    </tr>\n",
       "    <tr>\n",
       "      <th>76</th>\n",
       "      <td>Kerupuk jengkol dan seblak beton (satu paket) ...</td>\n",
       "      <td>Rp15.500</td>\n",
       "      <td>Seblak Guludug Bandung</td>\n",
       "      <td>Kab. Bandung</td>\n",
       "      <td>16 terjual</td>\n",
       "      <td>5.0</td>\n",
       "    </tr>\n",
       "    <tr>\n",
       "      <th>77</th>\n",
       "      <td>Kylafood Paket Seblak Cup isi 4 pcs</td>\n",
       "      <td>Rp50.040Rp55.600</td>\n",
       "      <td>kylafood</td>\n",
       "      <td>Bandung</td>\n",
       "      <td>80+ terjual</td>\n",
       "      <td>5.0</td>\n",
       "    </tr>\n",
       "    <tr>\n",
       "      <th>78</th>\n",
       "      <td>SEBLAK INSTAN TERMURAH</td>\n",
       "      <td>Rp3.500</td>\n",
       "      <td>Cemilan-Ce</td>\n",
       "      <td>Kab. Sidoarjo</td>\n",
       "      <td>100+ terjual</td>\n",
       "      <td>4.9</td>\n",
       "    </tr>\n",
       "    <tr>\n",
       "      <th>79</th>\n",
       "      <td>Kylafood Paket ( Seblak Original, Batagor, Cir...</td>\n",
       "      <td>Rp76.000Rp95.000</td>\n",
       "      <td>kylafood</td>\n",
       "      <td>Bandung</td>\n",
       "      <td>750+ terjual</td>\n",
       "      <td>4.9</td>\n",
       "    </tr>\n",
       "    <tr>\n",
       "      <th>80</th>\n",
       "      <td>Kerupuk Seblak Pedas 200gram</td>\n",
       "      <td>Rp18.000Rp20.000</td>\n",
       "      <td>toko bemo</td>\n",
       "      <td>Jakarta Timur</td>\n",
       "      <td>100+ terjual</td>\n",
       "      <td>4.8</td>\n",
       "    </tr>\n",
       "    <tr>\n",
       "      <th>81</th>\n",
       "      <td>SEBLAK INSTAN MANG MUSS - LEVEL 10</td>\n",
       "      <td>Rp13.999</td>\n",
       "      <td>Seblak Mang Muss</td>\n",
       "      <td>Tasikmalaya</td>\n",
       "      <td>750+ terjual</td>\n",
       "      <td>4.9</td>\n",
       "    </tr>\n",
       "    <tr>\n",
       "      <th>82</th>\n",
       "      <td>Seblak Rempah Autentik isi 5 pcs</td>\n",
       "      <td>Rp63.000</td>\n",
       "      <td>Kylafood Jakarta</td>\n",
       "      <td>Jakarta Selatan</td>\n",
       "      <td>100+ terjual</td>\n",
       "      <td>4.9</td>\n",
       "    </tr>\n",
       "    <tr>\n",
       "      <th>83</th>\n",
       "      <td>Cemilan Snack Kekinian | varian Kerupuk Seblak...</td>\n",
       "      <td>Rp8.000</td>\n",
       "      <td>SNACK TIMEE</td>\n",
       "      <td>Medan</td>\n",
       "      <td>NaN</td>\n",
       "      <td>NaN</td>\n",
       "    </tr>\n",
       "    <tr>\n",
       "      <th>84</th>\n",
       "      <td>Cemilan Snack Krupuk Seblak Pedas Bawang Kencu...</td>\n",
       "      <td>Rp8.500</td>\n",
       "      <td>Toko Jajan Murah Online</td>\n",
       "      <td>Surabaya</td>\n",
       "      <td>NaN</td>\n",
       "      <td>NaN</td>\n",
       "    </tr>\n",
       "    <tr>\n",
       "      <th>85</th>\n",
       "      <td>Kerupuk seblak mentah/kerupuk ikan udang/kerup...</td>\n",
       "      <td>Rp7.500</td>\n",
       "      <td>Ambar rempah</td>\n",
       "      <td>Tangerang Selatan</td>\n",
       "      <td>NaN</td>\n",
       "      <td>NaN</td>\n",
       "    </tr>\n",
       "    <tr>\n",
       "      <th>86</th>\n",
       "      <td>kerupuk seblak pedas 1 kg / kerupuk seblak</td>\n",
       "      <td>Rp35.625Rp37.500</td>\n",
       "      <td>Adila_Putri_Snack</td>\n",
       "      <td>Kab.Ciamis</td>\n",
       "      <td>100+ terjual</td>\n",
       "      <td>4.8</td>\n",
       "    </tr>\n",
       "    <tr>\n",
       "      <th>87</th>\n",
       "      <td>kerupuk seblak pedas/kerupuk jablai 100gram</td>\n",
       "      <td>Rp8.000</td>\n",
       "      <td>Warung Snackk</td>\n",
       "      <td>Tangerang</td>\n",
       "      <td>16 terjual</td>\n",
       "      <td>5.0</td>\n",
       "    </tr>\n",
       "    <tr>\n",
       "      <th>88</th>\n",
       "      <td>KERUPUK / KRUPUK SEBLAK RASA PEDAS / TERLARIS ...</td>\n",
       "      <td>Rp31.164</td>\n",
       "      <td>Toko kue Sumber Mas</td>\n",
       "      <td>Jakarta Timur</td>\n",
       "      <td>100+ terjual</td>\n",
       "      <td>4.8</td>\n",
       "    </tr>\n",
       "    <tr>\n",
       "      <th>89</th>\n",
       "      <td>Kerupuk Bawang Orange Dan Putih 1kg 1kilo Coco...</td>\n",
       "      <td>Rp24.500</td>\n",
       "      <td>Distributor-Jaya</td>\n",
       "      <td>Tangerang</td>\n",
       "      <td>100+ terjual</td>\n",
       "      <td>5.0</td>\n",
       "    </tr>\n",
       "    <tr>\n",
       "      <th>90</th>\n",
       "      <td>Geli Food Seblak Ceker Tanpa Tulang Super Peda...</td>\n",
       "      <td>Rp25.000Rp30.000</td>\n",
       "      <td>Lidigeli</td>\n",
       "      <td>Kab. Garut</td>\n",
       "      <td>100+ terjual</td>\n",
       "      <td>4.9</td>\n",
       "    </tr>\n",
       "    <tr>\n",
       "      <th>91</th>\n",
       "      <td>Kylafood Paket ( Seblak Original, Batagor, Cir...</td>\n",
       "      <td>Rp76.000Rp95.000</td>\n",
       "      <td>kylafood</td>\n",
       "      <td>Bandung</td>\n",
       "      <td>750+ terjual</td>\n",
       "      <td>4.9</td>\n",
       "    </tr>\n",
       "    <tr>\n",
       "      <th>92</th>\n",
       "      <td>Kerupuk Seblak Kencur Pedas 1 kg Termurah</td>\n",
       "      <td>Rp8.000Rp85.000</td>\n",
       "      <td>MuezzaSnack</td>\n",
       "      <td>Kab. Cirebon</td>\n",
       "      <td>22 terjual</td>\n",
       "      <td>4.8</td>\n",
       "    </tr>\n",
       "    <tr>\n",
       "      <th>93</th>\n",
       "      <td>SEBLAK INSTAN MOMMY</td>\n",
       "      <td>Rp13.900</td>\n",
       "      <td>Rav Jaya Display</td>\n",
       "      <td>Kab. Tangerang</td>\n",
       "      <td>1rb+ terjual</td>\n",
       "      <td>4.8</td>\n",
       "    </tr>\n",
       "    <tr>\n",
       "      <th>94</th>\n",
       "      <td>Pilus Cikur 1Kg Khas Garut Topping Baso Aci / ...</td>\n",
       "      <td>Rp33.000</td>\n",
       "      <td>Pedas Gilaa</td>\n",
       "      <td>Surabaya</td>\n",
       "      <td>500+ terjual</td>\n",
       "      <td>4.9</td>\n",
       "    </tr>\n",
       "    <tr>\n",
       "      <th>95</th>\n",
       "      <td>KERUPUK/KRUPUK SEBLAK RASA PEDAS TERLARIS ISI ...</td>\n",
       "      <td>Rp16.695</td>\n",
       "      <td>Toko kue Sumber Mas</td>\n",
       "      <td>Jakarta Timur</td>\n",
       "      <td>250+ terjual</td>\n",
       "      <td>4.9</td>\n",
       "    </tr>\n",
       "    <tr>\n",
       "      <th>96</th>\n",
       "      <td>kerupuk seblak ALN2 kemasan 100 gr</td>\n",
       "      <td>Rp12.000</td>\n",
       "      <td>grosir sembako Aln2</td>\n",
       "      <td>Kab. Bandung Barat</td>\n",
       "      <td>NaN</td>\n",
       "      <td>NaN</td>\n",
       "    </tr>\n",
       "    <tr>\n",
       "      <th>97</th>\n",
       "      <td>PROMO KEMERDEKAAN SEBLAK + KRISANG 200 GR</td>\n",
       "      <td>Rp79.000</td>\n",
       "      <td>Central Seblak Nusantara</td>\n",
       "      <td>Tangerang Selatan</td>\n",
       "      <td>NaN</td>\n",
       "      <td>NaN</td>\n",
       "    </tr>\n",
       "    <tr>\n",
       "      <th>98</th>\n",
       "      <td>Kylafood Paket Paket 2 Seblak Cup + 4 Seblak A...</td>\n",
       "      <td>Rp71.460Rp79.400</td>\n",
       "      <td>kylafood</td>\n",
       "      <td>Bandung</td>\n",
       "      <td>16 terjual</td>\n",
       "      <td>4.8</td>\n",
       "    </tr>\n",
       "    <tr>\n",
       "      <th>99</th>\n",
       "      <td>Pasar Keripik Kerupuk Seblak Mawar Mini Pedas ...</td>\n",
       "      <td>Rp12.500</td>\n",
       "      <td>Pasar Keripik Bandung</td>\n",
       "      <td>Bandung</td>\n",
       "      <td>100+ terjual</td>\n",
       "      <td>4.9</td>\n",
       "    </tr>\n",
       "  </tbody>\n",
       "</table>\n",
       "</div>"
      ],
      "text/plain": [
       "                                          nama_produk              harga  \\\n",
       "50  Makaroni bantet pedas daun jeruk 1kg makroni b...           Rp14.960   \n",
       "51                         seblak instant sajodo snak           Rp18.950   \n",
       "52  seblak instant komplit bumbu cikruh bandung au...            Rp6.800   \n",
       "53                 paket mix 12PCS boci cuanki seblak           Rp38.999   \n",
       "54  Cuanki Lidah 50 pcs topingan seblak baso Aci b...           Rp14.000   \n",
       "55             Seblak pedas kerupuk pedas kiloan 1 kg           Rp35.000   \n",
       "56                             3 SEBLAK FREE BASO ACI   Rp61.583Rp90.000   \n",
       "57  GURILEM MINI 1KG Siomay Kering Toping Baso Aci...           Rp29.000   \n",
       "58                                  Agen Seblak Mommy            Rp9.999   \n",
       "59  SEBLAK INSTAN NGABRET BANDUNG - SURABAYA SEBLA...     Rp5.048Rp5.099   \n",
       "60                S1 Seblak Instan Bang Satria Seuhah           Rp28.000   \n",
       "61        Cuankie Tahu Gepeng Topping Baso Aci Seblak           Rp22.499   \n",
       "62         3 BASO ACI FREE SEBLAK SAJODO SNACK & FOOD   Rp62.000Rp90.000   \n",
       "63  SEBRING KRUPUK KERUPUK SEBLAK KERING PEDAS DAU...           Rp16.000   \n",
       "64  Cipak Koceak Cirambay Cireng Seblak Basreng Bo...           Rp10.000   \n",
       "65  MAKARONI bantet 70gr krupuk SEBLAK krupuk UDAN...            Rp2.600   \n",
       "66  Kylafood Paket (3 Seblak Original 2 Batagor kuah)  Rp95.000Rp121.500   \n",
       "67  TOPPING SEBLAK/BASO ACI PAKET MIX TERMURAH/CUA...           Rp34.999   \n",
       "68            Seblak Rafael, Seblak Coet Instan Halal           Rp25.000   \n",
       "69  KerUpuk Seblak Kerupuk Beton Pedas Daun Jeruk ...           Rp15.000   \n",
       "70                                   Seblak Komplit⠀⠀     Rp5.400Rp5.500   \n",
       "71  Kerupuk seblak kering kencur 500gram /seblak k...   Rp28.700Rp30.000   \n",
       "72                          bumbu seblak basah instan           Rp26.666   \n",
       "73                        Baso Aci & Seblak Home Made            Rp5.500   \n",
       "74  Basreng 250GR SEBLAK PEDAS MANIS ORIGINAL JONT...           Rp14.850   \n",
       "75  Kerupuk seblak beton as kering cikruh 1 kg bum...           Rp49.000   \n",
       "76  Kerupuk jengkol dan seblak beton (satu paket) ...           Rp15.500   \n",
       "77                Kylafood Paket Seblak Cup isi 4 pcs   Rp50.040Rp55.600   \n",
       "78                             SEBLAK INSTAN TERMURAH            Rp3.500   \n",
       "79  Kylafood Paket ( Seblak Original, Batagor, Cir...   Rp76.000Rp95.000   \n",
       "80                       Kerupuk Seblak Pedas 200gram   Rp18.000Rp20.000   \n",
       "81                 SEBLAK INSTAN MANG MUSS - LEVEL 10           Rp13.999   \n",
       "82                   Seblak Rempah Autentik isi 5 pcs           Rp63.000   \n",
       "83  Cemilan Snack Kekinian | varian Kerupuk Seblak...            Rp8.000   \n",
       "84  Cemilan Snack Krupuk Seblak Pedas Bawang Kencu...            Rp8.500   \n",
       "85  Kerupuk seblak mentah/kerupuk ikan udang/kerup...            Rp7.500   \n",
       "86         kerupuk seblak pedas 1 kg / kerupuk seblak   Rp35.625Rp37.500   \n",
       "87        kerupuk seblak pedas/kerupuk jablai 100gram            Rp8.000   \n",
       "88  KERUPUK / KRUPUK SEBLAK RASA PEDAS / TERLARIS ...           Rp31.164   \n",
       "89  Kerupuk Bawang Orange Dan Putih 1kg 1kilo Coco...           Rp24.500   \n",
       "90  Geli Food Seblak Ceker Tanpa Tulang Super Peda...   Rp25.000Rp30.000   \n",
       "91  Kylafood Paket ( Seblak Original, Batagor, Cir...   Rp76.000Rp95.000   \n",
       "92          Kerupuk Seblak Kencur Pedas 1 kg Termurah    Rp8.000Rp85.000   \n",
       "93                                SEBLAK INSTAN MOMMY           Rp13.900   \n",
       "94  Pilus Cikur 1Kg Khas Garut Topping Baso Aci / ...           Rp33.000   \n",
       "95  KERUPUK/KRUPUK SEBLAK RASA PEDAS TERLARIS ISI ...           Rp16.695   \n",
       "96                 kerupuk seblak ALN2 kemasan 100 gr           Rp12.000   \n",
       "97          PROMO KEMERDEKAAN SEBLAK + KRISANG 200 GR           Rp79.000   \n",
       "98  Kylafood Paket Paket 2 Seblak Cup + 4 Seblak A...   Rp71.460Rp79.400   \n",
       "99  Pasar Keripik Kerupuk Seblak Mawar Mini Pedas ...           Rp12.500   \n",
       "\n",
       "                         nama_toko                kota       terjual  rating  \n",
       "50                  camilanqu_shop     Kab. Majalengka    26 terjual     4.7  \n",
       "51              hikmah berkah jaya       Jakarta Barat  1rb+ terjual     4.9  \n",
       "52                    AUFARO SNACK  Kab. Bandung Barat  500+ terjual     4.9  \n",
       "53                       nayismail              Cimahi   50+ terjual     4.9  \n",
       "54   Distributor Cuanki dan Seblak         Kab. Bekasi  750+ terjual     4.9  \n",
       "55                   RIKI STORE 97          Kab. Bogor  100+ terjual     4.7  \n",
       "56             Sajodo Snack & Food         Tasikmalaya  100+ terjual     4.9  \n",
       "57                     Pedas Gilaa            Surabaya  1rb+ terjual     4.9  \n",
       "58              Kenal Jaya Bandung             Bandung  4rb+ terjual     4.9  \n",
       "59                        Uai Food            Surabaya   50+ terjual     4.5  \n",
       "60                     Ruth Store'       Jakarta Pusat     6 terjual     5.0  \n",
       "61  Pusat Cuankie & Cemilan Frozen       Jakarta Timur  100+ terjual     4.9  \n",
       "62             Sajodo Snack & Food         Tasikmalaya  100+ terjual     5.0  \n",
       "63                     Aydaa Snack           Surakarta  100+ terjual     4.9  \n",
       "64                     AMANA SNACK   Tangerang Selatan  100+ terjual     4.7  \n",
       "65                      NomeL Shop            Surabaya  500+ terjual     4.8  \n",
       "66                        kylafood             Bandung  3rb+ terjual     4.9  \n",
       "67                  ArfaOnlineShop           Tangerang  100+ terjual     4.9  \n",
       "68               Brother Meat Shop               Depok  500+ terjual     5.0  \n",
       "69                  Mega_Snack_095              Cimahi    24 terjual     4.7  \n",
       "70                lisdhacollection          Kab. Garut  4rb+ terjual     4.8  \n",
       "71                    oyun kriukzz       Jakarta Barat  750+ terjual     4.9  \n",
       "72               Kickball Official             Bandung  250+ terjual     4.7  \n",
       "73                     Rodhi snack        Kab. Nganjuk   30+ terjual     5.0  \n",
       "74         Grosir Besar Kalimantan          Banjarbaru    20 terjual     4.8  \n",
       "75                  kerudung bunga              Cimahi    25 terjual     4.8  \n",
       "76          Seblak Guludug Bandung        Kab. Bandung    16 terjual     5.0  \n",
       "77                        kylafood             Bandung   80+ terjual     5.0  \n",
       "78                      Cemilan-Ce       Kab. Sidoarjo  100+ terjual     4.9  \n",
       "79                        kylafood             Bandung  750+ terjual     4.9  \n",
       "80                       toko bemo       Jakarta Timur  100+ terjual     4.8  \n",
       "81                Seblak Mang Muss         Tasikmalaya  750+ terjual     4.9  \n",
       "82                Kylafood Jakarta     Jakarta Selatan  100+ terjual     4.9  \n",
       "83                     SNACK TIMEE               Medan           NaN     NaN  \n",
       "84         Toko Jajan Murah Online            Surabaya           NaN     NaN  \n",
       "85                    Ambar rempah   Tangerang Selatan           NaN     NaN  \n",
       "86               Adila_Putri_Snack          Kab.Ciamis  100+ terjual     4.8  \n",
       "87                   Warung Snackk           Tangerang    16 terjual     5.0  \n",
       "88             Toko kue Sumber Mas       Jakarta Timur  100+ terjual     4.8  \n",
       "89                Distributor-Jaya           Tangerang  100+ terjual     5.0  \n",
       "90                        Lidigeli          Kab. Garut  100+ terjual     4.9  \n",
       "91                        kylafood             Bandung  750+ terjual     4.9  \n",
       "92                     MuezzaSnack        Kab. Cirebon    22 terjual     4.8  \n",
       "93                Rav Jaya Display      Kab. Tangerang  1rb+ terjual     4.8  \n",
       "94                     Pedas Gilaa            Surabaya  500+ terjual     4.9  \n",
       "95             Toko kue Sumber Mas       Jakarta Timur  250+ terjual     4.9  \n",
       "96             grosir sembako Aln2  Kab. Bandung Barat           NaN     NaN  \n",
       "97        Central Seblak Nusantara   Tangerang Selatan           NaN     NaN  \n",
       "98                        kylafood             Bandung    16 terjual     4.8  \n",
       "99           Pasar Keripik Bandung             Bandung  100+ terjual     4.9  "
      ]
     },
     "execution_count": 98,
     "metadata": {},
     "output_type": "execute_result"
    }
   ],
   "source": [
    "#slicing 50 data dari indeks 50 sampai 100\n",
    "df.iloc[50:100]"
   ]
  },
  {
   "cell_type": "markdown",
   "metadata": {},
   "source": [
    "Ini kita mulai dari kolom harga dulu. Dari slicing 50 data kita ditemukan ada data mempunyai 2 harga. Logikanya ini adalah harga diskon dan sebelum diskon ya. jadi ini kita harus bersihkan dan ambil data setelah diskon. data setelah diskon ada di awal sebagai informasi. ini kenapa kita hapus harga asli(harga sebelum diskon) karena itu harga user tidak akan dapatkan. jadi harga yang akan di dapatkan oleh user adalah harga setelah diskon. "
   ]
  },
  {
   "cell_type": "code",
   "execution_count": 99,
   "metadata": {},
   "outputs": [
    {
     "data": {
      "text/html": [
       "<div>\n",
       "<style scoped>\n",
       "    .dataframe tbody tr th:only-of-type {\n",
       "        vertical-align: middle;\n",
       "    }\n",
       "\n",
       "    .dataframe tbody tr th {\n",
       "        vertical-align: top;\n",
       "    }\n",
       "\n",
       "    .dataframe thead th {\n",
       "        text-align: right;\n",
       "    }\n",
       "</style>\n",
       "<table border=\"1\" class=\"dataframe\">\n",
       "  <thead>\n",
       "    <tr style=\"text-align: right;\">\n",
       "      <th></th>\n",
       "      <th>nama_produk</th>\n",
       "      <th>harga</th>\n",
       "      <th>nama_toko</th>\n",
       "      <th>kota</th>\n",
       "      <th>terjual</th>\n",
       "      <th>rating</th>\n",
       "    </tr>\n",
       "  </thead>\n",
       "  <tbody>\n",
       "    <tr>\n",
       "      <th>50</th>\n",
       "      <td>Makaroni bantet pedas daun jeruk 1kg makroni b...</td>\n",
       "      <td>14960</td>\n",
       "      <td>camilanqu_shop</td>\n",
       "      <td>Kab. Majalengka</td>\n",
       "      <td>26 terjual</td>\n",
       "      <td>4.7</td>\n",
       "    </tr>\n",
       "    <tr>\n",
       "      <th>51</th>\n",
       "      <td>seblak instant sajodo snak</td>\n",
       "      <td>18950</td>\n",
       "      <td>hikmah berkah jaya</td>\n",
       "      <td>Jakarta Barat</td>\n",
       "      <td>1rb+ terjual</td>\n",
       "      <td>4.9</td>\n",
       "    </tr>\n",
       "    <tr>\n",
       "      <th>52</th>\n",
       "      <td>seblak instant komplit bumbu cikruh bandung au...</td>\n",
       "      <td>6800</td>\n",
       "      <td>AUFARO SNACK</td>\n",
       "      <td>Kab. Bandung Barat</td>\n",
       "      <td>500+ terjual</td>\n",
       "      <td>4.9</td>\n",
       "    </tr>\n",
       "    <tr>\n",
       "      <th>53</th>\n",
       "      <td>paket mix 12PCS boci cuanki seblak</td>\n",
       "      <td>38999</td>\n",
       "      <td>nayismail</td>\n",
       "      <td>Cimahi</td>\n",
       "      <td>50+ terjual</td>\n",
       "      <td>4.9</td>\n",
       "    </tr>\n",
       "    <tr>\n",
       "      <th>54</th>\n",
       "      <td>Cuanki Lidah 50 pcs topingan seblak baso Aci b...</td>\n",
       "      <td>14000</td>\n",
       "      <td>Distributor Cuanki dan Seblak</td>\n",
       "      <td>Kab. Bekasi</td>\n",
       "      <td>750+ terjual</td>\n",
       "      <td>4.9</td>\n",
       "    </tr>\n",
       "  </tbody>\n",
       "</table>\n",
       "</div>"
      ],
      "text/plain": [
       "                                          nama_produk  harga  \\\n",
       "50  Makaroni bantet pedas daun jeruk 1kg makroni b...  14960   \n",
       "51                         seblak instant sajodo snak  18950   \n",
       "52  seblak instant komplit bumbu cikruh bandung au...   6800   \n",
       "53                 paket mix 12PCS boci cuanki seblak  38999   \n",
       "54  Cuanki Lidah 50 pcs topingan seblak baso Aci b...  14000   \n",
       "\n",
       "                        nama_toko                kota       terjual  rating  \n",
       "50                 camilanqu_shop     Kab. Majalengka    26 terjual     4.7  \n",
       "51             hikmah berkah jaya       Jakarta Barat  1rb+ terjual     4.9  \n",
       "52                   AUFARO SNACK  Kab. Bandung Barat  500+ terjual     4.9  \n",
       "53                      nayismail              Cimahi   50+ terjual     4.9  \n",
       "54  Distributor Cuanki dan Seblak         Kab. Bekasi  750+ terjual     4.9  "
      ]
     },
     "execution_count": 99,
     "metadata": {},
     "output_type": "execute_result"
    }
   ],
   "source": [
    "# pemakaian split untuk splitting dan memakai rp sebagai splitter setelah itu data list dipilih nomor 1 sehingga dapat angka rupiah\n",
    "df['harga'] = df['harga'].str.split('Rp').str[1]\n",
    "# penggantian \".\" menjadi kosong karena dalam data frame atau bahasa mesin untuk penghitungan tak butuh titik.\n",
    "df['harga'] = df['harga'].str.replace('.','')\n",
    "# cek sampel data\n",
    "df.iloc[50:55]"
   ]
  },
  {
   "cell_type": "markdown",
   "metadata": {},
   "source": [
    "data kolom harga sudah oke tinggal ganti type ke integer. bisa dilihat harga sudah menjadi seragam tanpa titik dan tanpa simbol Rp"
   ]
  },
  {
   "cell_type": "code",
   "execution_count": 100,
   "metadata": {},
   "outputs": [
    {
     "data": {
      "text/plain": [
       "dtype('int32')"
      ]
     },
     "execution_count": 100,
     "metadata": {},
     "output_type": "execute_result"
    }
   ],
   "source": [
    "#penggantian type data\n",
    "df['harga']=df['harga'].astype(int)\n",
    "#cek type data\n",
    "df['harga'].dtype"
   ]
  },
  {
   "cell_type": "markdown",
   "metadata": {},
   "source": [
    "data harga sudah sesuai lanjut kita ke data terjual. "
   ]
  },
  {
   "cell_type": "code",
   "execution_count": 101,
   "metadata": {},
   "outputs": [
    {
     "data": {
      "text/html": [
       "<div>\n",
       "<style scoped>\n",
       "    .dataframe tbody tr th:only-of-type {\n",
       "        vertical-align: middle;\n",
       "    }\n",
       "\n",
       "    .dataframe tbody tr th {\n",
       "        vertical-align: top;\n",
       "    }\n",
       "\n",
       "    .dataframe thead th {\n",
       "        text-align: right;\n",
       "    }\n",
       "</style>\n",
       "<table border=\"1\" class=\"dataframe\">\n",
       "  <thead>\n",
       "    <tr style=\"text-align: right;\">\n",
       "      <th></th>\n",
       "      <th>nama_produk</th>\n",
       "      <th>harga</th>\n",
       "      <th>nama_toko</th>\n",
       "      <th>kota</th>\n",
       "      <th>terjual</th>\n",
       "      <th>rating</th>\n",
       "    </tr>\n",
       "  </thead>\n",
       "  <tbody>\n",
       "    <tr>\n",
       "      <th>0</th>\n",
       "      <td>KRUPUK SEBLAK RAFAEL | SEBRING | KERUPUK MAWAR...</td>\n",
       "      <td>21630</td>\n",
       "      <td>Toko kue Sumber Mas</td>\n",
       "      <td>Jakarta Timur</td>\n",
       "      <td>40+ terjual</td>\n",
       "      <td>5.0</td>\n",
       "    </tr>\n",
       "    <tr>\n",
       "      <th>1</th>\n",
       "      <td>Seblak Instan Ceu Nthien Khas Bandung Rasana N...</td>\n",
       "      <td>17000</td>\n",
       "      <td>Central Seblak Nusantara</td>\n",
       "      <td>Tangerang Selatan</td>\n",
       "      <td>2rb+ terjual</td>\n",
       "      <td>4.9</td>\n",
       "    </tr>\n",
       "    <tr>\n",
       "      <th>2</th>\n",
       "      <td>Seblak Rafael, Seblak Coet Instan Halal</td>\n",
       "      <td>25000</td>\n",
       "      <td>Brother Meat Shop</td>\n",
       "      <td>Depok</td>\n",
       "      <td>500+ terjual</td>\n",
       "      <td>5.0</td>\n",
       "    </tr>\n",
       "    <tr>\n",
       "      <th>3</th>\n",
       "      <td>Seblak Rafael/Seblak Coet Instan Halal</td>\n",
       "      <td>26600</td>\n",
       "      <td>Foodstocks</td>\n",
       "      <td>Jakarta Selatan</td>\n",
       "      <td>500+ terjual</td>\n",
       "      <td>4.9</td>\n",
       "    </tr>\n",
       "    <tr>\n",
       "      <th>4</th>\n",
       "      <td>Seblak instan komplit / seblak instan murah</td>\n",
       "      <td>5000</td>\n",
       "      <td>ismileusa_id</td>\n",
       "      <td>Kab. Bandung</td>\n",
       "      <td>100+ terjual</td>\n",
       "      <td>4.7</td>\n",
       "    </tr>\n",
       "    <tr>\n",
       "      <th>5</th>\n",
       "      <td>Kylafood Seblak Rempah Authentik</td>\n",
       "      <td>8888</td>\n",
       "      <td>kylafood</td>\n",
       "      <td>Bandung</td>\n",
       "      <td>2rb+ terjual</td>\n",
       "      <td>4.9</td>\n",
       "    </tr>\n",
       "    <tr>\n",
       "      <th>6</th>\n",
       "      <td>SEBLAK INSTANT TERMURAH</td>\n",
       "      <td>4450</td>\n",
       "      <td>Pusat Cuankie &amp; Cemilan Frozen</td>\n",
       "      <td>Jakarta Timur</td>\n",
       "      <td>10rb+ terjual</td>\n",
       "      <td>4.8</td>\n",
       "    </tr>\n",
       "    <tr>\n",
       "      <th>7</th>\n",
       "      <td>Seblak Instan Pedas Home Made</td>\n",
       "      <td>3500</td>\n",
       "      <td>the Dhecip</td>\n",
       "      <td>Tangerang Selatan</td>\n",
       "      <td>4rb+ terjual</td>\n",
       "      <td>4.9</td>\n",
       "    </tr>\n",
       "    <tr>\n",
       "      <th>8</th>\n",
       "      <td>Kerupuk Mentah 250gr Seblak Mentah</td>\n",
       "      <td>5900</td>\n",
       "      <td>Pedas Gilaa</td>\n",
       "      <td>Surabaya</td>\n",
       "      <td>1rb+ terjual</td>\n",
       "      <td>5.0</td>\n",
       "    </tr>\n",
       "    <tr>\n",
       "      <th>9</th>\n",
       "      <td>Seblak Instant Homemade Lengkap Bumbu</td>\n",
       "      <td>5500</td>\n",
       "      <td>Pedas Gilaa</td>\n",
       "      <td>Surabaya</td>\n",
       "      <td>3rb+ terjual</td>\n",
       "      <td>4.8</td>\n",
       "    </tr>\n",
       "  </tbody>\n",
       "</table>\n",
       "</div>"
      ],
      "text/plain": [
       "                                         nama_produk  harga  \\\n",
       "0  KRUPUK SEBLAK RAFAEL | SEBRING | KERUPUK MAWAR...  21630   \n",
       "1  Seblak Instan Ceu Nthien Khas Bandung Rasana N...  17000   \n",
       "2            Seblak Rafael, Seblak Coet Instan Halal  25000   \n",
       "3             Seblak Rafael/Seblak Coet Instan Halal  26600   \n",
       "4        Seblak instan komplit / seblak instan murah   5000   \n",
       "5                   Kylafood Seblak Rempah Authentik   8888   \n",
       "6                            SEBLAK INSTANT TERMURAH   4450   \n",
       "7                      Seblak Instan Pedas Home Made   3500   \n",
       "8                 Kerupuk Mentah 250gr Seblak Mentah   5900   \n",
       "9              Seblak Instant Homemade Lengkap Bumbu   5500   \n",
       "\n",
       "                        nama_toko               kota        terjual  rating  \n",
       "0             Toko kue Sumber Mas      Jakarta Timur    40+ terjual     5.0  \n",
       "1        Central Seblak Nusantara  Tangerang Selatan   2rb+ terjual     4.9  \n",
       "2               Brother Meat Shop              Depok   500+ terjual     5.0  \n",
       "3                      Foodstocks    Jakarta Selatan   500+ terjual     4.9  \n",
       "4                    ismileusa_id       Kab. Bandung   100+ terjual     4.7  \n",
       "5                        kylafood            Bandung   2rb+ terjual     4.9  \n",
       "6  Pusat Cuankie & Cemilan Frozen      Jakarta Timur  10rb+ terjual     4.8  \n",
       "7                      the Dhecip  Tangerang Selatan   4rb+ terjual     4.9  \n",
       "8                     Pedas Gilaa           Surabaya   1rb+ terjual     5.0  \n",
       "9                     Pedas Gilaa           Surabaya   3rb+ terjual     4.8  "
      ]
     },
     "execution_count": 101,
     "metadata": {},
     "output_type": "execute_result"
    }
   ],
   "source": [
    "#menampilkan 10 baris pertama\n",
    "df.head(10)"
   ]
  },
  {
   "cell_type": "markdown",
   "metadata": {},
   "source": [
    "kolom terjual masih dipenuhi pengotor tanda rb dan + serta kata terjual maka ini akan kita handling"
   ]
  },
  {
   "cell_type": "markdown",
   "metadata": {},
   "source": [
    "kode dibawah ini kita banyak menggunakan str.replace akan menggantikan value menjadi yang kita inginkan. pada kode awal kita menjadikan + sebagai splitter dan memilih elemen index 0 dari list splittan tersebut. setelah itu kita ganti ribuan menjadi 3 angka 0 dan membuang kata kata terjual pada item yang terjual sedikit karena value itu tidak memiliki splitter '+' . serta paling akhir mengisi 0 pada NaN "
   ]
  },
  {
   "cell_type": "code",
   "execution_count": 102,
   "metadata": {},
   "outputs": [
    {
     "name": "stderr",
     "output_type": "stream",
     "text": [
      "C:\\Users\\asanm\\AppData\\Local\\Temp\\ipykernel_23300\\435000940.py:9: FutureWarning: A value is trying to be set on a copy of a DataFrame or Series through chained assignment using an inplace method.\n",
      "The behavior will change in pandas 3.0. This inplace method will never work because the intermediate object on which we are setting values always behaves as a copy.\n",
      "\n",
      "For example, when doing 'df[col].method(value, inplace=True)', try using 'df.method({col: value}, inplace=True)' or df[col] = df[col].method(value) instead, to perform the operation inplace on the original object.\n",
      "\n",
      "\n",
      "  df['terjual'].fillna(0,inplace=True)\n"
     ]
    },
    {
     "data": {
      "text/html": [
       "<div>\n",
       "<style scoped>\n",
       "    .dataframe tbody tr th:only-of-type {\n",
       "        vertical-align: middle;\n",
       "    }\n",
       "\n",
       "    .dataframe tbody tr th {\n",
       "        vertical-align: top;\n",
       "    }\n",
       "\n",
       "    .dataframe thead th {\n",
       "        text-align: right;\n",
       "    }\n",
       "</style>\n",
       "<table border=\"1\" class=\"dataframe\">\n",
       "  <thead>\n",
       "    <tr style=\"text-align: right;\">\n",
       "      <th></th>\n",
       "      <th>nama_produk</th>\n",
       "      <th>harga</th>\n",
       "      <th>nama_toko</th>\n",
       "      <th>kota</th>\n",
       "      <th>terjual</th>\n",
       "      <th>rating</th>\n",
       "    </tr>\n",
       "  </thead>\n",
       "  <tbody>\n",
       "    <tr>\n",
       "      <th>572</th>\n",
       "      <td>Pasar Keripik Cimol Seblak Pedas size Kecil 130g</td>\n",
       "      <td>12500</td>\n",
       "      <td>Pasar Keripik Bandung</td>\n",
       "      <td>Bandung</td>\n",
       "      <td>500</td>\n",
       "      <td>4.9</td>\n",
       "    </tr>\n",
       "    <tr>\n",
       "      <th>224</th>\n",
       "      <td>Toping Seblak Baso Aci PAKET MIX 100pcs Cuanki...</td>\n",
       "      <td>31000</td>\n",
       "      <td>gaiagarut</td>\n",
       "      <td>Kab. Garut</td>\n",
       "      <td>500</td>\n",
       "      <td>4.8</td>\n",
       "    </tr>\n",
       "    <tr>\n",
       "      <th>721</th>\n",
       "      <td>seblak instan tasikmalaya</td>\n",
       "      <td>3500</td>\n",
       "      <td>Seblakinstanofficial</td>\n",
       "      <td>Tasikmalaya</td>\n",
       "      <td>50</td>\n",
       "      <td>3.5</td>\n",
       "    </tr>\n",
       "    <tr>\n",
       "      <th>684</th>\n",
       "      <td>boci / baso aci / boci enak / harga murah isi ...</td>\n",
       "      <td>10000</td>\n",
       "      <td>khadizah shopp</td>\n",
       "      <td>Kab. Bogor</td>\n",
       "      <td>30</td>\n",
       "      <td>4.6</td>\n",
       "    </tr>\n",
       "    <tr>\n",
       "      <th>763</th>\n",
       "      <td>Seblak Tulang Rangu Nyai Mercon</td>\n",
       "      <td>21000</td>\n",
       "      <td>Jajanan Hits (JS)</td>\n",
       "      <td>Tangerang Selatan</td>\n",
       "      <td>70</td>\n",
       "      <td>5.0</td>\n",
       "    </tr>\n",
       "    <tr>\n",
       "      <th>356</th>\n",
       "      <td>krupuk mentah / seblak / bawang / buryam / lot...</td>\n",
       "      <td>5400</td>\n",
       "      <td>Paulus Plastik</td>\n",
       "      <td>Kab. Bantul</td>\n",
       "      <td>250</td>\n",
       "      <td>5.0</td>\n",
       "    </tr>\n",
       "    <tr>\n",
       "      <th>307</th>\n",
       "      <td>Cuanki / Cuankie Lidah Topping Baso Aci / Sebl...</td>\n",
       "      <td>100000</td>\n",
       "      <td>Kerabat Official Store</td>\n",
       "      <td>Kab. Tasikmalaya</td>\n",
       "      <td>50</td>\n",
       "      <td>4.9</td>\n",
       "    </tr>\n",
       "    <tr>\n",
       "      <th>667</th>\n",
       "      <td>Baso Aci Mie Nyemek Teh Shanty Original Lengka...</td>\n",
       "      <td>22900</td>\n",
       "      <td>Gerai Snack Official Shop</td>\n",
       "      <td>Kab. Tangerang</td>\n",
       "      <td>100</td>\n",
       "      <td>5.0</td>\n",
       "    </tr>\n",
       "    <tr>\n",
       "      <th>20</th>\n",
       "      <td>Mamafuji - PROMO BUNDLING !!! SEBLAK &amp; BAKSO ACI</td>\n",
       "      <td>41999</td>\n",
       "      <td>Mama Fuji Official</td>\n",
       "      <td>Tangerang</td>\n",
       "      <td>100</td>\n",
       "      <td>4.7</td>\n",
       "    </tr>\n",
       "    <tr>\n",
       "      <th>136</th>\n",
       "      <td>CEMILAN BOX MAKARONI SPIRAL GELUNG KERUPUK SEB...</td>\n",
       "      <td>35789</td>\n",
       "      <td>nyemilsaji</td>\n",
       "      <td>Kab. Bandung</td>\n",
       "      <td>750</td>\n",
       "      <td>4.9</td>\n",
       "    </tr>\n",
       "  </tbody>\n",
       "</table>\n",
       "</div>"
      ],
      "text/plain": [
       "                                           nama_produk   harga  \\\n",
       "572   Pasar Keripik Cimol Seblak Pedas size Kecil 130g   12500   \n",
       "224  Toping Seblak Baso Aci PAKET MIX 100pcs Cuanki...   31000   \n",
       "721                          seblak instan tasikmalaya    3500   \n",
       "684  boci / baso aci / boci enak / harga murah isi ...   10000   \n",
       "763                    Seblak Tulang Rangu Nyai Mercon   21000   \n",
       "356  krupuk mentah / seblak / bawang / buryam / lot...    5400   \n",
       "307  Cuanki / Cuankie Lidah Topping Baso Aci / Sebl...  100000   \n",
       "667  Baso Aci Mie Nyemek Teh Shanty Original Lengka...   22900   \n",
       "20    Mamafuji - PROMO BUNDLING !!! SEBLAK & BAKSO ACI   41999   \n",
       "136  CEMILAN BOX MAKARONI SPIRAL GELUNG KERUPUK SEB...   35789   \n",
       "\n",
       "                     nama_toko               kota terjual  rating  \n",
       "572      Pasar Keripik Bandung            Bandung     500     4.9  \n",
       "224                  gaiagarut         Kab. Garut     500     4.8  \n",
       "721       Seblakinstanofficial        Tasikmalaya      50     3.5  \n",
       "684             khadizah shopp         Kab. Bogor      30     4.6  \n",
       "763          Jajanan Hits (JS)  Tangerang Selatan      70     5.0  \n",
       "356             Paulus Plastik        Kab. Bantul     250     5.0  \n",
       "307     Kerabat Official Store   Kab. Tasikmalaya      50     4.9  \n",
       "667  Gerai Snack Official Shop     Kab. Tangerang     100     5.0  \n",
       "20          Mama Fuji Official          Tangerang     100     4.7  \n",
       "136                 nyemilsaji       Kab. Bandung     750     4.9  "
      ]
     },
     "execution_count": 102,
     "metadata": {},
     "output_type": "execute_result"
    }
   ],
   "source": [
    "# pembersihan data pada kolom terjual \n",
    "# split data dan milih index 0 \n",
    "df['terjual']= df['terjual'].str.split('+').str[0]\n",
    "# merubah rb menjadi 000\n",
    "df ['terjual'] = df['terjual'].str.replace ('rb', '000')\n",
    "#menghapus kata terjual \n",
    "df ['terjual'] = df ['terjual'].str.replace ('terjual','')\n",
    "#mengisi NaN dengan 0 supaya mesin bisa membaca \n",
    "df['terjual'].fillna(0,inplace=True)\n",
    "df.sample(10)"
   ]
  },
  {
   "cell_type": "markdown",
   "metadata": {},
   "source": [
    "Data kolom terjual sudah bersih dan akan kita ganti ke integer. bersih disini tidak terlihat sign sign + atau rb seperti sebelumnya."
   ]
  },
  {
   "cell_type": "code",
   "execution_count": 103,
   "metadata": {},
   "outputs": [
    {
     "data": {
      "text/plain": [
       "dtype('int32')"
      ]
     },
     "execution_count": 103,
     "metadata": {},
     "output_type": "execute_result"
    }
   ],
   "source": [
    "#penggantian type data\n",
    "df['terjual']=df['terjual'].astype(int)\n",
    "#cek type data\n",
    "df['terjual'].dtype"
   ]
  },
  {
   "cell_type": "markdown",
   "metadata": {},
   "source": [
    "data type kolom terjual sudah sesuai permintaan komputer. "
   ]
  },
  {
   "cell_type": "code",
   "execution_count": 104,
   "metadata": {},
   "outputs": [
    {
     "data": {
      "text/plain": [
       "63"
      ]
     },
     "execution_count": 104,
     "metadata": {},
     "output_type": "execute_result"
    }
   ],
   "source": [
    "# Handling data rating\n",
    "# pengecekan kolom yang mempunyai data NaN\n",
    "df['rating'].isna().sum()"
   ]
  },
  {
   "cell_type": "markdown",
   "metadata": {},
   "source": [
    "Terdapat 63 values yang bernilai NaN atau not value number harus kita isi dengan 0 "
   ]
  },
  {
   "cell_type": "code",
   "execution_count": 105,
   "metadata": {},
   "outputs": [
    {
     "name": "stderr",
     "output_type": "stream",
     "text": [
      "C:\\Users\\asanm\\AppData\\Local\\Temp\\ipykernel_23300\\2367124619.py:2: FutureWarning: A value is trying to be set on a copy of a DataFrame or Series through chained assignment using an inplace method.\n",
      "The behavior will change in pandas 3.0. This inplace method will never work because the intermediate object on which we are setting values always behaves as a copy.\n",
      "\n",
      "For example, when doing 'df[col].method(value, inplace=True)', try using 'df.method({col: value}, inplace=True)' or df[col] = df[col].method(value) instead, to perform the operation inplace on the original object.\n",
      "\n",
      "\n",
      "  df['rating'].fillna(0,inplace=True)\n"
     ]
    },
    {
     "data": {
      "text/plain": [
       "0"
      ]
     },
     "execution_count": 105,
     "metadata": {},
     "output_type": "execute_result"
    }
   ],
   "source": [
    "#menambah 0 pada missing value\n",
    "df['rating'].fillna(0,inplace=True)\n",
    "# cek data rating NaN sudah berubah belum \n",
    "df['rating'].isna().sum()"
   ]
  },
  {
   "cell_type": "markdown",
   "metadata": {},
   "source": [
    "data missing value sudah terhandle dan cek type data sudah benar atau belum"
   ]
  },
  {
   "cell_type": "code",
   "execution_count": 106,
   "metadata": {},
   "outputs": [
    {
     "data": {
      "text/plain": [
       "dtype('float64')"
      ]
     },
     "execution_count": 106,
     "metadata": {},
     "output_type": "execute_result"
    }
   ],
   "source": [
    "#cek type data\n",
    "df['rating'].dtype"
   ]
  },
  {
   "cell_type": "markdown",
   "metadata": {},
   "source": [
    "data type sudah benar float64 untuk data data desimal seperti ini"
   ]
  },
  {
   "cell_type": "markdown",
   "metadata": {},
   "source": [
    "### Handling Duplicated Data\n",
    "\n",
    "Disini lebih baik kita menghapus data yang terduplikasi karena ini memang data kotor dikarenakan data iklan. Tapi tak perlu dihapus semua cukup satu saja. Dan tinggalkan satu untuk dianalisis satunya. \n"
   ]
  },
  {
   "cell_type": "code",
   "execution_count": 107,
   "metadata": {},
   "outputs": [
    {
     "data": {
      "text/plain": [
       "(725, 6)"
      ]
     },
     "execution_count": 107,
     "metadata": {},
     "output_type": "execute_result"
    }
   ],
   "source": [
    "# Menghapus data yang terduplikasi \n",
    "df=df.drop_duplicates()\n",
    "#cek data sudah hilang belum \n",
    "df.shape"
   ]
  },
  {
   "cell_type": "markdown",
   "metadata": {},
   "source": [
    "data duplikat sudah bersih karena data awalnya tadi adalah 800 an sekarang menjadi 725 dan jumlah kolom sama"
   ]
  },
  {
   "cell_type": "code",
   "execution_count": 108,
   "metadata": {},
   "outputs": [
    {
     "data": {
      "text/html": [
       "<div>\n",
       "<style scoped>\n",
       "    .dataframe tbody tr th:only-of-type {\n",
       "        vertical-align: middle;\n",
       "    }\n",
       "\n",
       "    .dataframe tbody tr th {\n",
       "        vertical-align: top;\n",
       "    }\n",
       "\n",
       "    .dataframe thead th {\n",
       "        text-align: right;\n",
       "    }\n",
       "</style>\n",
       "<table border=\"1\" class=\"dataframe\">\n",
       "  <thead>\n",
       "    <tr style=\"text-align: right;\">\n",
       "      <th></th>\n",
       "      <th>nama_produk</th>\n",
       "      <th>harga</th>\n",
       "      <th>nama_toko</th>\n",
       "      <th>kota</th>\n",
       "      <th>terjual</th>\n",
       "      <th>rating</th>\n",
       "    </tr>\n",
       "  </thead>\n",
       "  <tbody>\n",
       "    <tr>\n",
       "      <th>755</th>\n",
       "      <td>kerupuk seblak mawar pedas daun jeruk</td>\n",
       "      <td>7999</td>\n",
       "      <td>uus shop 02</td>\n",
       "      <td>Surabaya</td>\n",
       "      <td>60</td>\n",
       "      <td>4.9</td>\n",
       "    </tr>\n",
       "    <tr>\n",
       "      <th>479</th>\n",
       "      <td>Seblak Basranger</td>\n",
       "      <td>14900</td>\n",
       "      <td>Khayla BeautyShop</td>\n",
       "      <td>Kab. Bekasi</td>\n",
       "      <td>50</td>\n",
       "      <td>5.0</td>\n",
       "    </tr>\n",
       "    <tr>\n",
       "      <th>451</th>\n",
       "      <td>kerupuk seblak kering enak gurih</td>\n",
       "      <td>5000</td>\n",
       "      <td>RIKI STORE 97</td>\n",
       "      <td>Kab. Bogor</td>\n",
       "      <td>250</td>\n",
       "      <td>0.0</td>\n",
       "    </tr>\n",
       "    <tr>\n",
       "      <th>377</th>\n",
       "      <td>BASRENG &amp; SEBLAK KERING 366 PEDAS MANTAP</td>\n",
       "      <td>13000</td>\n",
       "      <td>Warung Entong</td>\n",
       "      <td>Bandar Lampung</td>\n",
       "      <td>23</td>\n",
       "      <td>5.0</td>\n",
       "    </tr>\n",
       "    <tr>\n",
       "      <th>600</th>\n",
       "      <td>Gurilem Sangarrr</td>\n",
       "      <td>13000</td>\n",
       "      <td>The Little Snacks</td>\n",
       "      <td>Tangerang Selatan</td>\n",
       "      <td>2000</td>\n",
       "      <td>4.7</td>\n",
       "    </tr>\n",
       "    <tr>\n",
       "      <th>76</th>\n",
       "      <td>Kerupuk jengkol dan seblak beton (satu paket) ...</td>\n",
       "      <td>15500</td>\n",
       "      <td>Seblak Guludug Bandung</td>\n",
       "      <td>Kab. Bandung</td>\n",
       "      <td>16</td>\n",
       "      <td>5.0</td>\n",
       "    </tr>\n",
       "    <tr>\n",
       "      <th>242</th>\n",
       "      <td>GRATIS KARDUS CUANKI MIX MURAH - BISA COD - TO...</td>\n",
       "      <td>30000</td>\n",
       "      <td>Distributor Cuanki dan Seblak</td>\n",
       "      <td>Kab. Bekasi</td>\n",
       "      <td>50</td>\n",
       "      <td>4.9</td>\n",
       "    </tr>\n",
       "    <tr>\n",
       "      <th>706</th>\n",
       "      <td>seblak potato 250 gram</td>\n",
       "      <td>11000</td>\n",
       "      <td>camilanbandung87</td>\n",
       "      <td>Kab. Bandung</td>\n",
       "      <td>100</td>\n",
       "      <td>4.8</td>\n",
       "    </tr>\n",
       "    <tr>\n",
       "      <th>168</th>\n",
       "      <td>Seblak Jadoel Sambel Hedjo Samiraos | Seblak I...</td>\n",
       "      <td>18500</td>\n",
       "      <td>Lemari Wanita</td>\n",
       "      <td>Jakarta Timur</td>\n",
       "      <td>4</td>\n",
       "      <td>5.0</td>\n",
       "    </tr>\n",
       "    <tr>\n",
       "      <th>82</th>\n",
       "      <td>Seblak Rempah Autentik isi 5 pcs</td>\n",
       "      <td>63000</td>\n",
       "      <td>Kylafood Jakarta</td>\n",
       "      <td>Jakarta Selatan</td>\n",
       "      <td>100</td>\n",
       "      <td>4.9</td>\n",
       "    </tr>\n",
       "    <tr>\n",
       "      <th>45</th>\n",
       "      <td>(HARGA TERMURAH) seblak instan mantap</td>\n",
       "      <td>3900</td>\n",
       "      <td>baso aci zahra</td>\n",
       "      <td>Kab. Bandung</td>\n",
       "      <td>1000</td>\n",
       "      <td>4.7</td>\n",
       "    </tr>\n",
       "    <tr>\n",
       "      <th>304</th>\n",
       "      <td>Yasnack Kerupuk Seblak Rafael Pedas Cikruh Gur...</td>\n",
       "      <td>30000</td>\n",
       "      <td>YasnackID</td>\n",
       "      <td>Bandung</td>\n",
       "      <td>50</td>\n",
       "      <td>4.9</td>\n",
       "    </tr>\n",
       "    <tr>\n",
       "      <th>330</th>\n",
       "      <td>[READY MEDAN] Extra Topping Baso Aci Cuanki Se...</td>\n",
       "      <td>4000</td>\n",
       "      <td>CemilanPuas</td>\n",
       "      <td>Medan</td>\n",
       "      <td>250</td>\n",
       "      <td>4.5</td>\n",
       "    </tr>\n",
       "    <tr>\n",
       "      <th>305</th>\n",
       "      <td>SEBLAK INSTAN ORI/SEBLAK INSTAN KERUPUK/SEBLAK...</td>\n",
       "      <td>6197</td>\n",
       "      <td>dakar_ofc</td>\n",
       "      <td>Kab. Mojokerto</td>\n",
       "      <td>250</td>\n",
       "      <td>4.4</td>\n",
       "    </tr>\n",
       "    <tr>\n",
       "      <th>557</th>\n",
       "      <td>Seblak Instant Carla With Batagor dan Siomay J...</td>\n",
       "      <td>149999</td>\n",
       "      <td>Seblak carla</td>\n",
       "      <td>Tangerang</td>\n",
       "      <td>750</td>\n",
       "      <td>5.0</td>\n",
       "    </tr>\n",
       "    <tr>\n",
       "      <th>457</th>\n",
       "      <td>Seblak Coet / Rafael + bumbu  Promo beli 3 gra...</td>\n",
       "      <td>5599</td>\n",
       "      <td>Taubak Huhah Snack</td>\n",
       "      <td>Kab. Malang</td>\n",
       "      <td>9</td>\n",
       "      <td>5.0</td>\n",
       "    </tr>\n",
       "    <tr>\n",
       "      <th>160</th>\n",
       "      <td>siomay pedas kering,daun jeruk,500g,cemilan pe...</td>\n",
       "      <td>23000</td>\n",
       "      <td>anugrah seblak</td>\n",
       "      <td>Kab. Bandung</td>\n",
       "      <td>250</td>\n",
       "      <td>4.7</td>\n",
       "    </tr>\n",
       "    <tr>\n",
       "      <th>703</th>\n",
       "      <td>seblak ceker dua putra</td>\n",
       "      <td>9500</td>\n",
       "      <td>edisnack</td>\n",
       "      <td>Tangerang Selatan</td>\n",
       "      <td>18</td>\n",
       "      <td>5.0</td>\n",
       "    </tr>\n",
       "    <tr>\n",
       "      <th>109</th>\n",
       "      <td>Seblak Beton 1kg Pedas Daun Jeruk / Seblak Ker...</td>\n",
       "      <td>37500</td>\n",
       "      <td>D&amp;R-9 collection</td>\n",
       "      <td>Bandung</td>\n",
       "      <td>60</td>\n",
       "      <td>4.8</td>\n",
       "    </tr>\n",
       "    <tr>\n",
       "      <th>203</th>\n",
       "      <td>Seblak Mamang Rafael</td>\n",
       "      <td>33000</td>\n",
       "      <td>Ice Cream Universe</td>\n",
       "      <td>Denpasar</td>\n",
       "      <td>9</td>\n",
       "      <td>0.0</td>\n",
       "    </tr>\n",
       "  </tbody>\n",
       "</table>\n",
       "</div>"
      ],
      "text/plain": [
       "                                           nama_produk   harga  \\\n",
       "755              kerupuk seblak mawar pedas daun jeruk    7999   \n",
       "479                                   Seblak Basranger   14900   \n",
       "451                   kerupuk seblak kering enak gurih    5000   \n",
       "377           BASRENG & SEBLAK KERING 366 PEDAS MANTAP   13000   \n",
       "600                                   Gurilem Sangarrr   13000   \n",
       "76   Kerupuk jengkol dan seblak beton (satu paket) ...   15500   \n",
       "242  GRATIS KARDUS CUANKI MIX MURAH - BISA COD - TO...   30000   \n",
       "706                             seblak potato 250 gram   11000   \n",
       "168  Seblak Jadoel Sambel Hedjo Samiraos | Seblak I...   18500   \n",
       "82                    Seblak Rempah Autentik isi 5 pcs   63000   \n",
       "45               (HARGA TERMURAH) seblak instan mantap    3900   \n",
       "304  Yasnack Kerupuk Seblak Rafael Pedas Cikruh Gur...   30000   \n",
       "330  [READY MEDAN] Extra Topping Baso Aci Cuanki Se...    4000   \n",
       "305  SEBLAK INSTAN ORI/SEBLAK INSTAN KERUPUK/SEBLAK...    6197   \n",
       "557  Seblak Instant Carla With Batagor dan Siomay J...  149999   \n",
       "457  Seblak Coet / Rafael + bumbu  Promo beli 3 gra...    5599   \n",
       "160  siomay pedas kering,daun jeruk,500g,cemilan pe...   23000   \n",
       "703                             seblak ceker dua putra    9500   \n",
       "109  Seblak Beton 1kg Pedas Daun Jeruk / Seblak Ker...   37500   \n",
       "203                               Seblak Mamang Rafael   33000   \n",
       "\n",
       "                         nama_toko               kota  terjual  rating  \n",
       "755                    uus shop 02           Surabaya       60     4.9  \n",
       "479              Khayla BeautyShop        Kab. Bekasi       50     5.0  \n",
       "451                  RIKI STORE 97         Kab. Bogor      250     0.0  \n",
       "377                  Warung Entong     Bandar Lampung       23     5.0  \n",
       "600              The Little Snacks  Tangerang Selatan     2000     4.7  \n",
       "76          Seblak Guludug Bandung       Kab. Bandung       16     5.0  \n",
       "242  Distributor Cuanki dan Seblak        Kab. Bekasi       50     4.9  \n",
       "706               camilanbandung87       Kab. Bandung      100     4.8  \n",
       "168                  Lemari Wanita      Jakarta Timur        4     5.0  \n",
       "82                Kylafood Jakarta    Jakarta Selatan      100     4.9  \n",
       "45                  baso aci zahra       Kab. Bandung     1000     4.7  \n",
       "304                      YasnackID            Bandung       50     4.9  \n",
       "330                    CemilanPuas              Medan      250     4.5  \n",
       "305                      dakar_ofc     Kab. Mojokerto      250     4.4  \n",
       "557                   Seblak carla          Tangerang      750     5.0  \n",
       "457             Taubak Huhah Snack        Kab. Malang        9     5.0  \n",
       "160                 anugrah seblak       Kab. Bandung      250     4.7  \n",
       "703                       edisnack  Tangerang Selatan       18     5.0  \n",
       "109               D&R-9 collection            Bandung       60     4.8  \n",
       "203             Ice Cream Universe           Denpasar        9     0.0  "
      ]
     },
     "execution_count": 108,
     "metadata": {},
     "output_type": "execute_result"
    }
   ],
   "source": [
    "# Cek bentuk data \n",
    "df.sample(20)"
   ]
  },
  {
   "cell_type": "code",
   "execution_count": 109,
   "metadata": {},
   "outputs": [
    {
     "name": "stdout",
     "output_type": "stream",
     "text": [
      "<class 'pandas.core.frame.DataFrame'>\n",
      "Index: 725 entries, 0 to 802\n",
      "Data columns (total 6 columns):\n",
      " #   Column       Non-Null Count  Dtype  \n",
      "---  ------       --------------  -----  \n",
      " 0   nama_produk  725 non-null    object \n",
      " 1   harga        725 non-null    int32  \n",
      " 2   nama_toko    725 non-null    object \n",
      " 3   kota         725 non-null    object \n",
      " 4   terjual      725 non-null    int32  \n",
      " 5   rating       725 non-null    float64\n",
      "dtypes: float64(1), int32(2), object(3)\n",
      "memory usage: 34.0+ KB\n"
     ]
    }
   ],
   "source": [
    "#cek info data \n",
    "df.info()"
   ]
  },
  {
   "cell_type": "markdown",
   "metadata": {},
   "source": [
    "Setelah melihat sample 5 data dan info bentukan data seperti data type dan cek null values . maka kita bisa simpulkan bahwa data ini sudah siap untuk diolah dan dijadikan analisis untuk kebutuhan kita sebagai penjual onlinee produk seblak. data ini sudah bersih dari 0 values seperti terlihat setelah pada output kodingan ``` df.info() ``` itu terdapat informasi non nul menunjukkan bahwa data tidak ada 0 dan type data angka (kolom terjual rating dan harga) itu sudah benar menjadi int atau float untuk kita handling. Data Siap kita ke langkah berikutnya yaitu statistik deskriptif dan inferential statistik pada dataset kita. "
   ]
  },
  {
   "cell_type": "markdown",
   "metadata": {},
   "source": [
    "# Business Knowledge \n",
    "### Pembuatan Frame Work SMART"
   ]
  },
  {
   "cell_type": "markdown",
   "metadata": {},
   "source": [
    "##### Background\n",
    "Sebagai usahawan yang akan membuat startup akan membuat usaha penjualan seblak online kita harus menentukan dulu masalah apa yang akan kita tackle dan akan kita breakdown di awal awal pembuatan bisnis kita. Sebagai informasi bahan bakar suatu bisnis atau usaha itu adalah sales. Jika sales kita tidak ada maka kemungkinan kita akan bertahan di periode-periode selanjutnya akan menjadi lebih menantang, kemungkinan selanjutnya jika sales tidak tercetak bisa membuat bangkrut. Bahkan jika kita mengacu pada model bisnis jaman sekarang yang growth hacking yang mana itu akan bisa menjadi acuan kita untuk menaikkan sales dulu di awal. dengan harapan ketika sales ada ataupun pembuktian bahwa usaha kita ini running (bisa beroperasi) maka ke depannya akan bisa kita track usaha kita untuk dikembangkan seperti ditawarkan kepada investor atau pihak perbankan."
   ]
  },
  {
   "cell_type": "markdown",
   "metadata": {},
   "source": [
    "#### SPECIFIC \n",
    "\n",
    "Mencetak gross sales memadai untuk jualan kita yang baru mulai untuk memastikan usaha kita tetap berjalan ke depannya\n",
    "\n",
    "#### MEASURABLE \n",
    "Mencetak gross sales sebesar 10 juta dengan jualan seblak online sistem dropshipping. \n",
    "\n",
    "#### ACHIEVABLE\n",
    "Dengan mempertimbangkan posisi kita sebagai penjual online dan produk kita bisa dikirim online untuk seluruh indonesia maka saya yakin goals kita mencetak gross sales 10 juta bisa dicapai\n",
    "\n",
    "#### RELEVANT\n",
    "Adanya gross sales 10 juta sangat relevan untuk bisnis kita yang lagi dibangun karena kita harus mencari pelanggan dulu di awal namun juga kita harus membuktikan bahwa jualan kita ini menghasilkan sales untuk keberlangsungan usaha.\n",
    "\n",
    "#### TIME-BOUND \n",
    "Target ini akan direalisasikan dalam waktu 2 bulan dari bulan ini. \n",
    "\n",
    "#### Problem Statement \n",
    "#### Mencetak Gross Sales sebesar Rp 10 juta dalam waktu 2 bulan untuk memastikan keberlangsungan usaha rintisan (startup) seblak online kita.\n"
   ]
  },
  {
   "cell_type": "markdown",
   "metadata": {},
   "source": [
    "# Statistics Descriptive\n",
    "\n",
    "Setelah menentukan problem statement yaitu \"Mencetak Gross Sales usaha sebesar Rp 10 juta dalam waktu 2 bulan untuk memastikan keberlangsungan usaha rintisan (startup) seblak online kita.\" maka kita bisa menganalisis apakah hal ini masuk akal ketika kita dihadapkan dengan data sample penjualan tokopedia. Sebagai latar belakang tokopedia merupakan salah satu marketplace besar di Indonesia, jadi harusnya ketika businessman itu membuka bisnis online maka kebanyakan akan membuka toko di tokopedia juga. \n",
    "\n",
    "Pemahaman data ini kita awali dengan statistik deskriptif, statistik deskriptif ini biasanya digunakan untuk menyajikan data dalam bentuk ringkas sehingga mudah dibaca ukuran atau parameter contoh yaitu(mean ,modus, median dsb) mean adalah rata-rata, modus adalah data yang paling banyak muncul dan median adalah titik tengah dari urutan data. \n",
    "\n",
    "Untuk pengingat kolom data yang akan kita gunakan yaitu kolom di bawah ini nama, harga, toko, kota, produk terjual, dan rating. Data numerik pada kolom itu yaitu harga produk terjual dan rating maka kita akan coba analisis deskriptif dimulai dari sana. "
   ]
  },
  {
   "cell_type": "code",
   "execution_count": 110,
   "metadata": {},
   "outputs": [
    {
     "data": {
      "text/plain": [
       "Index(['nama_produk', 'harga', 'nama_toko', 'kota', 'terjual', 'rating'], dtype='object')"
      ]
     },
     "execution_count": 110,
     "metadata": {},
     "output_type": "execute_result"
    }
   ],
   "source": [
    "# calling nama kolom dari data set kita \n",
    "df.columns"
   ]
  },
  {
   "cell_type": "markdown",
   "metadata": {},
   "source": [
    "sebagai pengingat saja kolom kolom yang kita akan analisis dan seperti apa isi kolomnya itu bisa dibayangkan mana yang numerik atau berisi angka dan mana yang berisi kalimat. "
   ]
  },
  {
   "cell_type": "code",
   "execution_count": 111,
   "metadata": {},
   "outputs": [
    {
     "data": {
      "text/html": [
       "<div>\n",
       "<style scoped>\n",
       "    .dataframe tbody tr th:only-of-type {\n",
       "        vertical-align: middle;\n",
       "    }\n",
       "\n",
       "    .dataframe tbody tr th {\n",
       "        vertical-align: top;\n",
       "    }\n",
       "\n",
       "    .dataframe thead th {\n",
       "        text-align: right;\n",
       "    }\n",
       "</style>\n",
       "<table border=\"1\" class=\"dataframe\">\n",
       "  <thead>\n",
       "    <tr style=\"text-align: right;\">\n",
       "      <th></th>\n",
       "      <th>harga</th>\n",
       "      <th>terjual</th>\n",
       "      <th>rating</th>\n",
       "    </tr>\n",
       "  </thead>\n",
       "  <tbody>\n",
       "    <tr>\n",
       "      <th>count</th>\n",
       "      <td>7.250000e+02</td>\n",
       "      <td>725.000000</td>\n",
       "      <td>725.000000</td>\n",
       "    </tr>\n",
       "    <tr>\n",
       "      <th>mean</th>\n",
       "      <td>3.016253e+04</td>\n",
       "      <td>451.815172</td>\n",
       "      <td>4.468138</td>\n",
       "    </tr>\n",
       "    <tr>\n",
       "      <th>std</th>\n",
       "      <td>1.207381e+05</td>\n",
       "      <td>1277.795934</td>\n",
       "      <td>1.342245</td>\n",
       "    </tr>\n",
       "    <tr>\n",
       "      <th>min</th>\n",
       "      <td>4.000000e+02</td>\n",
       "      <td>0.000000</td>\n",
       "      <td>0.000000</td>\n",
       "    </tr>\n",
       "    <tr>\n",
       "      <th>25%</th>\n",
       "      <td>8.750000e+03</td>\n",
       "      <td>22.000000</td>\n",
       "      <td>4.800000</td>\n",
       "    </tr>\n",
       "    <tr>\n",
       "      <th>50%</th>\n",
       "      <td>1.500000e+04</td>\n",
       "      <td>80.000000</td>\n",
       "      <td>4.900000</td>\n",
       "    </tr>\n",
       "    <tr>\n",
       "      <th>75%</th>\n",
       "      <td>2.650000e+04</td>\n",
       "      <td>250.000000</td>\n",
       "      <td>5.000000</td>\n",
       "    </tr>\n",
       "    <tr>\n",
       "      <th>max</th>\n",
       "      <td>3.000000e+06</td>\n",
       "      <td>10000.000000</td>\n",
       "      <td>5.000000</td>\n",
       "    </tr>\n",
       "  </tbody>\n",
       "</table>\n",
       "</div>"
      ],
      "text/plain": [
       "              harga       terjual      rating\n",
       "count  7.250000e+02    725.000000  725.000000\n",
       "mean   3.016253e+04    451.815172    4.468138\n",
       "std    1.207381e+05   1277.795934    1.342245\n",
       "min    4.000000e+02      0.000000    0.000000\n",
       "25%    8.750000e+03     22.000000    4.800000\n",
       "50%    1.500000e+04     80.000000    4.900000\n",
       "75%    2.650000e+04    250.000000    5.000000\n",
       "max    3.000000e+06  10000.000000    5.000000"
      ]
     },
     "execution_count": 111,
     "metadata": {},
     "output_type": "execute_result"
    }
   ],
   "source": [
    "# kilasan tentang central tendency pada dataset\n",
    "df.describe()"
   ]
  },
  {
   "cell_type": "markdown",
   "metadata": {},
   "source": [
    "Data di atas adalah kilasan singkat mengenai gambaran data kita.kilasan ini menjelaskan seperti apa ukuran central tendensi dari kolom kolom numerik pada dataset kita. Itu bisa dibaca sekilas namun kita akan membahas satu satu untuk lebih jelas karena akan digunakan sebagai landasan kita untuk pencapaian goal kita. Sebagai awalan data kita berjumlah 725 nilai nilai pada data. Lanjut kita akan memilah satu persatu dimulai dari kolom harga"
   ]
  },
  {
   "cell_type": "markdown",
   "metadata": {},
   "source": [
    "Disini awalannya dimulai dari pengecekan rata-rata, median dan standar deviasi harga seblak di tokped. "
   ]
  },
  {
   "cell_type": "code",
   "execution_count": 112,
   "metadata": {},
   "outputs": [
    {
     "name": "stdout",
     "output_type": "stream",
     "text": [
      "rata-rata harga seblak di tokopedia yaitu 30163 rupiah \n",
      "median harga seblak di tokopedia yaitu 15000 rupiah \n",
      "standar deviasi harga seblak di tokopedia yaitu 120738 rupiah \n"
     ]
    }
   ],
   "source": [
    "# rata rata harga\n",
    "rata2_harga=df['harga'].mean()\n",
    "print('rata-rata harga seblak di tokopedia yaitu {:.0f} rupiah '.format(rata2_harga))\n",
    "# median harga \n",
    "med_harga = df['harga'].median()\n",
    "print('median harga seblak di tokopedia yaitu {:.0f} rupiah '.format(med_harga))\n",
    "# standar deviasi\n",
    "std_harga = df['harga'].std()\n",
    "print('standar deviasi harga seblak di tokopedia yaitu {:.0f} rupiah '.format(std_harga))"
   ]
  },
  {
   "cell_type": "markdown",
   "metadata": {},
   "source": [
    "data-data dari central tendencies itu sepertinya data harga sangat condong kanan atau right skew. apa artiannya ini. Ini bisa berarti bahwa data kita sangat dipengaruhi oleh value value besar (value yang cenderung anomali) pada data kita sehingga merusak central tendencies dari data itu. pengertian gampangnya yaitu ada beberapa orang menjual harga seblak dengan tidak masuk akal sehingga merusak pasaran harga seblak, kita balik lagi ke kolom kilasan di atas tepatnya pada kolom harga dan baris max ada data ```3.000000e+06 (data ini dibaca 3 juta)``` jika secara logika mana mungkin orang beli harga seblak 3 juta kan, secara logika tidak mungkin kita akan membeli dengan harga itu. Kecuali itu harga bundling 100 pcs atau satu dus seblak jadi mungkin.\n",
    "\n",
    " kita bisa lihat mean/ rata2 dan median itu berbeda jauh. jika persebaran data normal maka median dan mean itu berdekatan. ini sebagai acuan juga bahwa data ini kurang stabil untuk pemakaian rata-rata sebagai penentuan harga barang kita. jika kita ingin menentukan harga jual seblak kita kemungkinan yang bisa dipakai adalah median (15000) karena median mendekati titik tengah dari data itu. Namun jika kita menjual produk yang premium maka kita bisa mengambil data sekitaran quartil atas data (25000 an) untuk harga jual kita. standar deviasi 120.000 juga menunjukkan bahwa data ini masih banyak outlier nya. karena normalnya dengan kita menambahkan dan mengurangi std(standar deviasi) pada rata rata [+- std]akan menghasilkan probability kurang lebih 68 % persebaran data jika kita aplikasikan 15 ribu dikurangi 120ribu sangat tidak mungkin kita menjual dengan harga negatif.  "
   ]
  },
  {
   "cell_type": "code",
   "execution_count": 113,
   "metadata": {},
   "outputs": [
    {
     "name": "stdout",
     "output_type": "stream",
     "text": [
      "Skewness dari kolom harga adalah: 21.177944034947625\n",
      "Kurtosis dari kolom harga adalah: 509.4338578338336\n"
     ]
    }
   ],
   "source": [
    "# untuk pembuktian kita memakai skewness pada kolom harga \n",
    "# kodingan skewness\n",
    "skewness_harga = df['harga'].skew()\n",
    "print('Skewness dari kolom harga adalah:', skewness_harga)\n",
    "\n",
    "# pembuktian lain kita memakai kurtosis \n",
    "# kodingan kurtosis\n",
    "kurtosis_harga = df['harga'].kurtosis()\n",
    "print('Kurtosis dari kolom harga adalah:', kurtosis_harga)\n",
    "\n"
   ]
  },
  {
   "cell_type": "markdown",
   "metadata": {},
   "source": [
    "Data dari skewness ini sudah memberikan gambaran seperti apa data dari harga ini. Outlier dari harga ini sangat timpang dan data cenderung condong ke kanan. Skala skewness lebih dari 2 saja itu sudah menggambarkan bahwa data itu sudah highly skewness. Nah di sini kita mendapatkan lagi bukti bahwa data kita itu skewness yang sangat ekstrem karena angkanya 21. Berkali kali lipat dari skala highly skewness\n",
    "\n",
    "Kurtosis itu menandakan seberapa banyak tail atau data data yang memiliki ekor atau istilah awamnya outlier. yaitu data anomali yang jauh dari rata2 harga. skala kurtosis di angka lebih dari 3 menunjukkan bahwa ini adalah leptokurtic dan memiliki puncak tajam atau data ini tidak terdistribusi normal mendukung penemuan penemuan sebelumnya . \n",
    "\n",
    "#### kesimpulan dari kolom harga yaitu\n",
    "\n",
    "untuk penentuan harga lebih baik menggunakan variabel median 15000 untuk segmen rendah karena data kita berbentuk kurtosis dan banyak outlier yang mempengaruhi rata2 harga barang. jika mengincar pasar premium maka data yang kita gunakan data sekitaran upper quartile (75%) atau sekitaran 25000. tergantung kebutuhan kita dan analisis lanjutan untuk mencapai target kita 10 juta dalam waktu 2bulan. "
   ]
  },
  {
   "cell_type": "code",
   "execution_count": 114,
   "metadata": {},
   "outputs": [
    {
     "name": "stdout",
     "output_type": "stream",
     "text": [
      "rata-rata produk seblak yang terjual di tokopedia yaitu 452 unit \n",
      "median produk seblak terjual di tokopedia yaitu 80 unit \n",
      "standar deviasi produk seblak di tokopedia yaitu 1278 unit \n"
     ]
    }
   ],
   "source": [
    "# rata rata harga\n",
    "rata2_terjual=df['terjual'].mean()\n",
    "print('rata-rata produk seblak yang terjual di tokopedia yaitu {:.0f} unit '.format(rata2_terjual))\n",
    "# median harga \n",
    "med_terjual = df['terjual'].median()\n",
    "print('median produk seblak terjual di tokopedia yaitu {:.0f} unit '.format(med_terjual))\n",
    "# standar deviasi\n",
    "std_terjual = df['terjual'].std()\n",
    "print('standar deviasi produk seblak di tokopedia yaitu {:.0f} unit '.format(std_terjual))"
   ]
  },
  {
   "cell_type": "markdown",
   "metadata": {},
   "source": [
    "rata rata produk terjual 452 dan median 80 serta std yaitu 1278. datanya sepertinya banyak outliernya. ini ditandai dengan std yang 1278 dan rata2 sekitar 450 an jika kita ``` hitung = rata2- 1std ``` maka akan hasil negatif ya ini sudah menunjukkan data banyak outlier nya. kenapa ? karena ketika kita slicing rata2 minus std dalam sebaran data normal itu 34% sebaran data dalam rentang itu, dan produk gak mungkin terjual negatif jadi memang data ini cenderung skewed ke kanan. penemuan selanjutnya yaitu median dan rata2 produk berbeda jauh. bukti kedua data ini banyak outlier atau skew. saran saya sebagai analis untuk usaha ini yaitu. pemakaian median untuk ukuran rata2 produk terjual. karena outliers itu adalah toko2 yang biasanya menjual banyak dan sudah menjadi pemenang pasar makanya mereka bisa menjual banyak. dan jika memang kita ingin serius dengan bisnis ini (atau ini usaha utama bukan bisnis sampingan) maka bisa dipertimbangkan untuk pembelian fasilitas iklan tokopedia untuk menggenjot penjualan awal dan mendapatkan customer. "
   ]
  },
  {
   "cell_type": "code",
   "execution_count": 115,
   "metadata": {},
   "outputs": [
    {
     "name": "stdout",
     "output_type": "stream",
     "text": [
      "Skewness dari kolom terjual adalah: 5.430766970060983\n",
      "Kurtosis dari kolom terjual adalah: 33.497293363594764\n"
     ]
    }
   ],
   "source": [
    "# untuk pembuktian kita memakai skewness pada kolom harga \n",
    "# kodingan skewness\n",
    "skewness_terjual = df['terjual'].skew()\n",
    "print('Skewness dari kolom terjual adalah:', skewness_terjual)\n",
    "\n",
    "# pembuktian lain kita memakai kurtosis \n",
    "# kodingan kurtosis\n",
    "kurtosis_terjual = df['terjual'].kurtosis()\n",
    "print('Kurtosis dari kolom terjual adalah:', kurtosis_terjual)"
   ]
  },
  {
   "cell_type": "markdown",
   "metadata": {},
   "source": [
    "Temuan saya di atas mengenai outliers diperkuat dengan skewness yang bernilai 5,4. angka skewness ini menunjukkan bahwa highly skewed. karena angka lebih dari 2 saja sudah cenderung highly skewed ini lebij daro 2 kalinya maka data kita ada outliersnya. ditambah lagi kurtosis 33.49 ini juga menunjukkan data yang tidak normal karena banyak tail atau outliersnya.\n",
    "Apa maksudnya ini. Jadi ada beberapa toko yang menjual produk jauh lebih banyak dari toko lain sehingga dia pemenang dari pasar seblak ini. Jika ingin memenangkan pasar maka kita harus mengikuti strategi mereka berjualan. \n",
    "\n",
    "#### Kesimpulan \n",
    "Ada beberapa toko yang sebagai pemenang pasar dan bisa kita jadikan acuan strategi kita untuk jualan. Dan jika kita benar2 ingin menggenjot penjualan atau gross sales maka kita perlu mempertimbangkan iklan yang mana supaya produk kita dilihat pelanggan dan target kita akan terpenuhi. Jika mengambil data berapa produk habis terjual per penjual dalam sebulan (kita menggunakan median) dalam sebulan maka kita bisa menjual 80 unit produk yang terjual. Jadi kita harus mengambil strategi pemenang dalam kasus ini supaya kita bisa cepat mencapai target gross sales kita."
   ]
  },
  {
   "cell_type": "code",
   "execution_count": 116,
   "metadata": {},
   "outputs": [
    {
     "name": "stdout",
     "output_type": "stream",
     "text": [
      "rata-rata rating produk seblak di tokopedia yaitu 4.47  \n",
      "median rating produk seblak di tokopedia yaitu 4.90  \n",
      "standar deviasi rating produk di tokopedia yaitu 1.34  \n"
     ]
    }
   ],
   "source": [
    "# rata rata harga\n",
    "rata2_rating=df['rating'].mean()\n",
    "print('rata-rata rating produk seblak di tokopedia yaitu {:.2f}  '.format(rata2_rating))\n",
    "# median harga \n",
    "med_rating = df['rating'].median()\n",
    "print('median rating produk seblak di tokopedia yaitu {:.2f}  '.format(med_rating))\n",
    "# standar deviasi\n",
    "std_rating = df['rating'].std()\n",
    "print('standar deviasi rating produk di tokopedia yaitu {:.2f}  '.format(std_rating))"
   ]
  },
  {
   "cell_type": "markdown",
   "metadata": {},
   "source": [
    "nilai rata2 4,47 median 4,9 dan std 1,34. kali ini kita mendapatkan data yang banyak outliersnya. itu ditandai dengan ```rata2 + std ``` yang bernilai lebih dari 5 harusnya kan tidak mungkin rating itu lebih dari 5 makanya kita mendapatkan data yang banyak outliersnya namun kurang tau apakah data ini miring ke kiri atau kanan namun asumsi saya ini data miring kiri. dan harus di verifikasi di bawah. \n"
   ]
  },
  {
   "cell_type": "code",
   "execution_count": 117,
   "metadata": {},
   "outputs": [
    {
     "name": "stdout",
     "output_type": "stream",
     "text": [
      "Skewness dari kolom rating adalah: -2.983122438688263\n",
      "Kurtosis dari kolom rating adalah: 7.090566338810547\n"
     ]
    }
   ],
   "source": [
    "# untuk pembuktian kita memakai skewness pada kolom harga \n",
    "# kodingan skewness\n",
    "skewness_rating = df['rating'].skew()\n",
    "print('Skewness dari kolom rating adalah:', skewness_rating)\n",
    "\n",
    "# pembuktian lain kita memakai kurtosis \n",
    "# kodingan kurtosis\n",
    "kurtosis_rating = df['rating'].kurtosis()\n",
    "print('Kurtosis dari kolom rating adalah:', kurtosis_rating)"
   ]
  },
  {
   "cell_type": "markdown",
   "metadata": {},
   "source": [
    "dan data diaatas menunjukkan bahwa data ini miring kiri karena skewness negatif yang dimaksudkan adalah banyak value outlier itu benilai kecil dan mean median memiliki value lebih besar dibanding outlier kecil2 tersebut. data tidak terdistribusi normal juga ditandai dengan kurtosis dan skewness yang jauh melebihi skala persebaran normal distribusi. \n",
    "\n",
    "#### Kesimpulan kolom rating\n",
    "\n",
    "Untuk memenangkan pasar ini kita butuh rating lebih dari 4,9 karena mediannya saja di angka segitu jadi 50 % produk itu memiliki rating lebih dari 4,9. Jadi rating ini merupakan indikator bahwa toko kita dipercaya. \n",
    "Untuk saran mungkin kita bisa membenarkan rating dengan memberikan produk gratis ke beberapa kerabat dan menyuruh mereka membeli produk di kita kemudian kita kembalikan uangnya namun mereka harus memberikan imbalan berupa rating 5 pada produk kita, supaya pada awalnya kita sudah memiliki rating 5. "
   ]
  },
  {
   "cell_type": "markdown",
   "metadata": {},
   "source": [
    "# Inferential Statistics\n",
    "\n",
    "Kita tahu dalam smart problem kita ingin tahu apakah target itu masuk akal tidak itu bisa kita asumsikan disini. Di sini kita memikirkan bagaimana potensi pasar jika memang akan mau jualan seblak apakah pendapatan 10 juta (gross sales) dalam waktu 2 bulan itu masuk akal atau tidak. Untuk itu kita harus mencari pendekatan statistik yang berbeda. Karena data kita ini adalah data sampel maka kita tidak seharusnya mengambil langsung dari rata rata. kita harus memastikan dulu dari CI (confidence interval)  apakah sampel tersebut sudah menggambarkan populasi sesungguhnya. ``` (catatan : kita menganggap data ini sebagai normal distribution jadi kita perlu menggarisbawahi ini dulu) ``` . Karena CI bisa bermain dengan baik ketika data normal distribution. \n",
    "\n",
    "Oke sekilas tentang CI. CI adalah alat bantu statistik untuk memastikan apakah parameter yang kita ambil sudah sesuai dengan gambaran populasi dengan kita memberikan garansi kebenaran dengan angka tertentu sebagai contoh 95%. Gampangnya yaitu rata rata data saya ini sudah sesuai 95% dari gambaran populasi ( rata rata penjual online seblak itu punya produk terjual 800 dengan keyakinan 95% dari data).  Jadi pada data ini kita akan menghitung berapa CI untuk rata rata dari produk seblak yang sudah terjual berdasarkan data sampel yang kita punya. Dengan begitu kita bisa pahami seberapa dekat rata-rata sampel kita dengan rata-rata populasi secara keseluruhan. \n",
    "\n",
    "``` FYI kita pakai 95% confiidence Interval dan asumsi data terdistribusi normal ```"
   ]
  },
  {
   "cell_type": "code",
   "execution_count": 118,
   "metadata": {},
   "outputs": [
    {
     "name": "stdout",
     "output_type": "stream",
     "text": [
      "Lower Limit: 358.802828311683\n",
      "Upper Limit: 544.8275165159032\n"
     ]
    }
   ],
   "source": [
    "# importing library yang kita butuhkan \n",
    "# untuk hitung matematis biasanya\n",
    "import numpy as np\n",
    "# ini untuk penghitungan statistik\n",
    "from scipy import stats\n",
    "\n",
    "bca = len(df['terjual'])            # panjang data kita \n",
    "bca1 = df['terjual'].mean()         # rata rata data terjual\n",
    "bca2 = df['terjual'].std()          # std (standar deviasi) terjual\n",
    "\n",
    "'''teknisnya sebenarnya sangat panjang untuk cari CI itu kita persingkat saja jadi data itu kita cari parameter dibutuhkan parameter di atas\n",
    "kemudian kita berusaha untuk hitung itu di bawah ini. CI adalah plus minus rata2 dikali dengan z score untuk 95 % dikali (std / akar (jumlah data sampel)) \n",
    "dan kita harus menganggap data ini distribusi normal ya sbg catatan'''\n",
    "\n",
    "low, up = stats.norm.interval(    # Will have lower & upper limit\n",
    "    0.95,                         # Confidence level in 95%\n",
    "    loc=bca1,                     # Average of terjual\n",
    "    scale=bca2/np.sqrt(bca)       # The width of dist. from average\n",
    "    )         \n",
    "\n",
    "print('Lower Limit:', low)   # Lower limit\n",
    "print('Upper Limit:', up)    # Upper limit\n"
   ]
  },
  {
   "cell_type": "markdown",
   "metadata": {},
   "source": [
    "Dari perhitungan yang telah kita lakukan, kita mendapatkan lower limit sebesar 350 dan upper limit sebesar 540. Ini berarti produk yang akan terjual rata-rata diperkirakan berada di rentang ini dengan keyakinan 95% berdasarkan data. Karena tokped tidak transparan dengan data terjual maka kita anggap saja ini adalah penjualan setiap bulan jadi kita bisa memprediksikan bahwa penjualan rata- rata kita di range  350 sampai 540 apabila kita ambil titik random tengah ya untuk permudah paling kita bisa menjual di angka 400 unit produk. Jadi jika kita mempunyai harga seblak ambil asumsi 20000 rupiah maka jika kita kalikan dengan rata-rata produk terjual perbulan yaitu 400 maka sebulan kita akan mendapatkan 8 juta rupiah. sebagai kesimpulan maka target 10 juta gross slaes dalam jangka waktu 2 bulan sangat realistis."
   ]
  },
  {
   "cell_type": "markdown",
   "metadata": {},
   "source": [
    "#### Perbedaan harga barang jabodetabek dan luar jabodetabek\n",
    "kita saat ini posisi tinggal di jabodetabek dan ingin tahu apakah harga di jabodetabek itu lebih mahal atau murah ya. ini dikarenakan di jabodetabek sendiri bahan baku serta biaya biaya lain juga mahal dibandingkan di daerah luar jabodetabek. data ini nanti akan digunakan sebagai pertimbangan apakah kita akan mengambil suplier di jabodetabek atau dari kota selain jabodetabek. dan bisa sebagai fungsi pengambilan keputusan yang lain yang berhubungan dengan harga.\n",
    "\n",
    "#### Hipotesis\n",
    "\n",
    "##### H0 = rata-rata harga jabodetabek dan non jabodatabek adalah sama ( mean harga jabodetabek == mean harga nonjabodetabek)\n",
    "\n",
    "##### H1 = ada perbedaan rata-rata harga jabodetabek dan non jabodetabek  (mean harga jabodetabek != mean harga nonjabodetabek)\n",
    "\n",
    "\n",
    "uji test apa yang akan kita ambil ini ditentukan oleh bentuk data tersebut. kita menganggap data ini normal maka kita bisa memakai uji hipotesis untuk t test tepantnya two sample t test.\n",
    "singkatnya T test ini adalah uji untuk memastikan berdasarkan statistik apakah memang parameter data ini dalam kasus kita ini adalah rata-rata, itu berbeda beneran atau cuma kebetulan aja. karena sampel lebih dari 30 dan terdistribusi normal. Cocok sekali dengan data ini. \n",
    "\n",
    "Pertama kita harus memisah dulu mana data jabodetabek dan mana data tidak jabodetabek\n",
    "\n",
    "\n",
    "\n",
    "\n",
    "\n",
    "\n"
   ]
  },
  {
   "cell_type": "code",
   "execution_count": 119,
   "metadata": {},
   "outputs": [
    {
     "data": {
      "text/html": [
       "<div>\n",
       "<style scoped>\n",
       "    .dataframe tbody tr th:only-of-type {\n",
       "        vertical-align: middle;\n",
       "    }\n",
       "\n",
       "    .dataframe tbody tr th {\n",
       "        vertical-align: top;\n",
       "    }\n",
       "\n",
       "    .dataframe thead th {\n",
       "        text-align: right;\n",
       "    }\n",
       "</style>\n",
       "<table border=\"1\" class=\"dataframe\">\n",
       "  <thead>\n",
       "    <tr style=\"text-align: right;\">\n",
       "      <th></th>\n",
       "      <th>nama_produk</th>\n",
       "      <th>harga</th>\n",
       "      <th>nama_toko</th>\n",
       "      <th>kota</th>\n",
       "      <th>terjual</th>\n",
       "      <th>rating</th>\n",
       "    </tr>\n",
       "  </thead>\n",
       "  <tbody>\n",
       "    <tr>\n",
       "      <th>166</th>\n",
       "      <td>Bakso Aci Instan Murah Asli Bandung Frozen Bas...</td>\n",
       "      <td>5702</td>\n",
       "      <td>Berkah Food Bandung</td>\n",
       "      <td>Cimahi</td>\n",
       "      <td>10000</td>\n",
       "      <td>4.9</td>\n",
       "    </tr>\n",
       "    <tr>\n",
       "      <th>271</th>\n",
       "      <td>Seblak Rempah Instan Maknyoss</td>\n",
       "      <td>25000</td>\n",
       "      <td>BOCI MAKNYOSS OFFICIAL</td>\n",
       "      <td>Kab. Batang</td>\n",
       "      <td>1</td>\n",
       "      <td>0.0</td>\n",
       "    </tr>\n",
       "    <tr>\n",
       "      <th>396</th>\n",
       "      <td>Krupuk Stik Seblak /pedas 1kg</td>\n",
       "      <td>42000</td>\n",
       "      <td>Hosana Snack</td>\n",
       "      <td>Bogor</td>\n",
       "      <td>70</td>\n",
       "      <td>4.9</td>\n",
       "    </tr>\n",
       "    <tr>\n",
       "      <th>365</th>\n",
       "      <td>Kerupuk Bangka / Kerupuk Ikan Bangka</td>\n",
       "      <td>28000</td>\n",
       "      <td>Pisang Goreng Madu Bu Nanik</td>\n",
       "      <td>Jakarta Barat</td>\n",
       "      <td>250</td>\n",
       "      <td>4.7</td>\n",
       "    </tr>\n",
       "    <tr>\n",
       "      <th>290</th>\n",
       "      <td>150pcs LIDAH Cuanki Batagor bahan Pelengkap Bo...</td>\n",
       "      <td>39479</td>\n",
       "      <td>lahawelah</td>\n",
       "      <td>Kab. Garut</td>\n",
       "      <td>100</td>\n",
       "      <td>4.9</td>\n",
       "    </tr>\n",
       "    <tr>\n",
       "      <th>106</th>\n",
       "      <td>BATAGOR MINI KERING 100 PCS TOPING BASO ACI, S...</td>\n",
       "      <td>11000</td>\n",
       "      <td>global cookware1</td>\n",
       "      <td>Jakarta Barat</td>\n",
       "      <td>750</td>\n",
       "      <td>4.9</td>\n",
       "    </tr>\n",
       "    <tr>\n",
       "      <th>337</th>\n",
       "      <td>cilok goang kuah</td>\n",
       "      <td>5700</td>\n",
       "      <td>Berkah Food Bandung</td>\n",
       "      <td>Cimahi</td>\n",
       "      <td>4000</td>\n",
       "      <td>4.9</td>\n",
       "    </tr>\n",
       "    <tr>\n",
       "      <th>519</th>\n",
       "      <td>[TERMURAH!!] Seblak Instant Basranger Extra Pe...</td>\n",
       "      <td>14500</td>\n",
       "      <td>duniacemilan</td>\n",
       "      <td>Bandung</td>\n",
       "      <td>100</td>\n",
       "      <td>4.9</td>\n",
       "    </tr>\n",
       "    <tr>\n",
       "      <th>155</th>\n",
       "      <td>Kylafood Paket 4 Seblak Original 1 Batagor</td>\n",
       "      <td>91000</td>\n",
       "      <td>kylafood</td>\n",
       "      <td>Bandung</td>\n",
       "      <td>1000</td>\n",
       "      <td>4.9</td>\n",
       "    </tr>\n",
       "    <tr>\n",
       "      <th>92</th>\n",
       "      <td>Kerupuk Seblak Kencur Pedas 1 kg Termurah</td>\n",
       "      <td>8000</td>\n",
       "      <td>MuezzaSnack</td>\n",
       "      <td>Kab. Cirebon</td>\n",
       "      <td>22</td>\n",
       "      <td>4.8</td>\n",
       "    </tr>\n",
       "  </tbody>\n",
       "</table>\n",
       "</div>"
      ],
      "text/plain": [
       "                                           nama_produk  harga  \\\n",
       "166  Bakso Aci Instan Murah Asli Bandung Frozen Bas...   5702   \n",
       "271                      Seblak Rempah Instan Maknyoss  25000   \n",
       "396                      Krupuk Stik Seblak /pedas 1kg  42000   \n",
       "365               Kerupuk Bangka / Kerupuk Ikan Bangka  28000   \n",
       "290  150pcs LIDAH Cuanki Batagor bahan Pelengkap Bo...  39479   \n",
       "106  BATAGOR MINI KERING 100 PCS TOPING BASO ACI, S...  11000   \n",
       "337                                   cilok goang kuah   5700   \n",
       "519  [TERMURAH!!] Seblak Instant Basranger Extra Pe...  14500   \n",
       "155         Kylafood Paket 4 Seblak Original 1 Batagor  91000   \n",
       "92           Kerupuk Seblak Kencur Pedas 1 kg Termurah   8000   \n",
       "\n",
       "                       nama_toko           kota  terjual  rating  \n",
       "166          Berkah Food Bandung         Cimahi    10000     4.9  \n",
       "271       BOCI MAKNYOSS OFFICIAL    Kab. Batang        1     0.0  \n",
       "396                 Hosana Snack          Bogor       70     4.9  \n",
       "365  Pisang Goreng Madu Bu Nanik  Jakarta Barat      250     4.7  \n",
       "290                    lahawelah     Kab. Garut      100     4.9  \n",
       "106             global cookware1  Jakarta Barat      750     4.9  \n",
       "337          Berkah Food Bandung         Cimahi     4000     4.9  \n",
       "519                 duniacemilan        Bandung      100     4.9  \n",
       "155                     kylafood        Bandung     1000     4.9  \n",
       "92                   MuezzaSnack   Kab. Cirebon       22     4.8  "
      ]
     },
     "execution_count": 119,
     "metadata": {},
     "output_type": "execute_result"
    }
   ],
   "source": [
    "# memisahkan data jabodetabek dan bukan jabodetabek \n",
    "\n",
    "# melihat dulu sample data kota\n",
    "df.sample(10)\n"
   ]
  },
  {
   "cell_type": "markdown",
   "metadata": {},
   "source": [
    "data seperti di atas oke. catatan nama kota diawali oleh huruf kapital seperti judul. Untuk Jakarta terdapat jakarta dibagi 5 yaitu barat timur dsb sesuai kota. tangerang selatan ada juga. kita siasatin dengan membuat list berisi kota yang merupakan jabodetabek "
   ]
  },
  {
   "cell_type": "code",
   "execution_count": 120,
   "metadata": {},
   "outputs": [],
   "source": [
    "# list bantuan untuk kota jabodetabek\n",
    "list_jabode = ['Jakarta Pusat', 'Jakarta Timur','Jakarta Selatan','Jakarta Barat','Jakarta Utara','Bogor', 'Tangerang Selatan', 'Tangerang', 'Depok', 'Bekasi'] \n",
    "\n",
    "# disini kita membuat variabel baru untuk permudah lagi\n",
    "# variabel jabode untuk kota yang jabodetabek \n",
    "jabode = df[df['kota'].isin(list_jabode)]\n",
    "\n",
    "# variabel not jabode untuk kota non jabodetabek \n",
    "not_jabode = df[~df['kota'].isin(list_jabode)]"
   ]
  },
  {
   "cell_type": "code",
   "execution_count": 121,
   "metadata": {},
   "outputs": [
    {
     "data": {
      "text/html": [
       "<div>\n",
       "<style scoped>\n",
       "    .dataframe tbody tr th:only-of-type {\n",
       "        vertical-align: middle;\n",
       "    }\n",
       "\n",
       "    .dataframe tbody tr th {\n",
       "        vertical-align: top;\n",
       "    }\n",
       "\n",
       "    .dataframe thead th {\n",
       "        text-align: right;\n",
       "    }\n",
       "</style>\n",
       "<table border=\"1\" class=\"dataframe\">\n",
       "  <thead>\n",
       "    <tr style=\"text-align: right;\">\n",
       "      <th></th>\n",
       "      <th>nama_produk</th>\n",
       "      <th>harga</th>\n",
       "      <th>nama_toko</th>\n",
       "      <th>kota</th>\n",
       "      <th>terjual</th>\n",
       "      <th>rating</th>\n",
       "    </tr>\n",
       "  </thead>\n",
       "  <tbody>\n",
       "    <tr>\n",
       "      <th>4</th>\n",
       "      <td>Seblak instan komplit / seblak instan murah</td>\n",
       "      <td>5000</td>\n",
       "      <td>ismileusa_id</td>\n",
       "      <td>Kab. Bandung</td>\n",
       "      <td>100</td>\n",
       "      <td>4.7</td>\n",
       "    </tr>\n",
       "    <tr>\n",
       "      <th>5</th>\n",
       "      <td>Kylafood Seblak Rempah Authentik</td>\n",
       "      <td>8888</td>\n",
       "      <td>kylafood</td>\n",
       "      <td>Bandung</td>\n",
       "      <td>2000</td>\n",
       "      <td>4.9</td>\n",
       "    </tr>\n",
       "    <tr>\n",
       "      <th>8</th>\n",
       "      <td>Kerupuk Mentah 250gr Seblak Mentah</td>\n",
       "      <td>5900</td>\n",
       "      <td>Pedas Gilaa</td>\n",
       "      <td>Surabaya</td>\n",
       "      <td>1000</td>\n",
       "      <td>5.0</td>\n",
       "    </tr>\n",
       "    <tr>\n",
       "      <th>9</th>\n",
       "      <td>Seblak Instant Homemade Lengkap Bumbu</td>\n",
       "      <td>5500</td>\n",
       "      <td>Pedas Gilaa</td>\n",
       "      <td>Surabaya</td>\n",
       "      <td>3000</td>\n",
       "      <td>4.8</td>\n",
       "    </tr>\n",
       "    <tr>\n",
       "      <th>11</th>\n",
       "      <td>Paket Isi 4 Batagor Instan | Makaroni Basah | ...</td>\n",
       "      <td>64906</td>\n",
       "      <td>Lakoca Official Shop</td>\n",
       "      <td>Cimahi</td>\n",
       "      <td>30</td>\n",
       "      <td>4.9</td>\n",
       "    </tr>\n",
       "  </tbody>\n",
       "</table>\n",
       "</div>"
      ],
      "text/plain": [
       "                                          nama_produk  harga  \\\n",
       "4         Seblak instan komplit / seblak instan murah   5000   \n",
       "5                    Kylafood Seblak Rempah Authentik   8888   \n",
       "8                  Kerupuk Mentah 250gr Seblak Mentah   5900   \n",
       "9               Seblak Instant Homemade Lengkap Bumbu   5500   \n",
       "11  Paket Isi 4 Batagor Instan | Makaroni Basah | ...  64906   \n",
       "\n",
       "               nama_toko          kota  terjual  rating  \n",
       "4           ismileusa_id  Kab. Bandung      100     4.7  \n",
       "5               kylafood       Bandung     2000     4.9  \n",
       "8            Pedas Gilaa      Surabaya     1000     5.0  \n",
       "9            Pedas Gilaa      Surabaya     3000     4.8  \n",
       "11  Lakoca Official Shop        Cimahi       30     4.9  "
      ]
     },
     "execution_count": 121,
     "metadata": {},
     "output_type": "execute_result"
    }
   ],
   "source": [
    "not_jabode.head()"
   ]
  },
  {
   "cell_type": "code",
   "execution_count": 122,
   "metadata": {},
   "outputs": [
    {
     "data": {
      "text/html": [
       "<div>\n",
       "<style scoped>\n",
       "    .dataframe tbody tr th:only-of-type {\n",
       "        vertical-align: middle;\n",
       "    }\n",
       "\n",
       "    .dataframe tbody tr th {\n",
       "        vertical-align: top;\n",
       "    }\n",
       "\n",
       "    .dataframe thead th {\n",
       "        text-align: right;\n",
       "    }\n",
       "</style>\n",
       "<table border=\"1\" class=\"dataframe\">\n",
       "  <thead>\n",
       "    <tr style=\"text-align: right;\">\n",
       "      <th></th>\n",
       "      <th>nama_produk</th>\n",
       "      <th>harga</th>\n",
       "      <th>nama_toko</th>\n",
       "      <th>kota</th>\n",
       "      <th>terjual</th>\n",
       "      <th>rating</th>\n",
       "    </tr>\n",
       "  </thead>\n",
       "  <tbody>\n",
       "    <tr>\n",
       "      <th>0</th>\n",
       "      <td>KRUPUK SEBLAK RAFAEL | SEBRING | KERUPUK MAWAR...</td>\n",
       "      <td>21630</td>\n",
       "      <td>Toko kue Sumber Mas</td>\n",
       "      <td>Jakarta Timur</td>\n",
       "      <td>40</td>\n",
       "      <td>5.0</td>\n",
       "    </tr>\n",
       "    <tr>\n",
       "      <th>1</th>\n",
       "      <td>Seblak Instan Ceu Nthien Khas Bandung Rasana N...</td>\n",
       "      <td>17000</td>\n",
       "      <td>Central Seblak Nusantara</td>\n",
       "      <td>Tangerang Selatan</td>\n",
       "      <td>2000</td>\n",
       "      <td>4.9</td>\n",
       "    </tr>\n",
       "    <tr>\n",
       "      <th>2</th>\n",
       "      <td>Seblak Rafael, Seblak Coet Instan Halal</td>\n",
       "      <td>25000</td>\n",
       "      <td>Brother Meat Shop</td>\n",
       "      <td>Depok</td>\n",
       "      <td>500</td>\n",
       "      <td>5.0</td>\n",
       "    </tr>\n",
       "    <tr>\n",
       "      <th>3</th>\n",
       "      <td>Seblak Rafael/Seblak Coet Instan Halal</td>\n",
       "      <td>26600</td>\n",
       "      <td>Foodstocks</td>\n",
       "      <td>Jakarta Selatan</td>\n",
       "      <td>500</td>\n",
       "      <td>4.9</td>\n",
       "    </tr>\n",
       "    <tr>\n",
       "      <th>6</th>\n",
       "      <td>SEBLAK INSTANT TERMURAH</td>\n",
       "      <td>4450</td>\n",
       "      <td>Pusat Cuankie &amp; Cemilan Frozen</td>\n",
       "      <td>Jakarta Timur</td>\n",
       "      <td>10000</td>\n",
       "      <td>4.8</td>\n",
       "    </tr>\n",
       "  </tbody>\n",
       "</table>\n",
       "</div>"
      ],
      "text/plain": [
       "                                         nama_produk  harga  \\\n",
       "0  KRUPUK SEBLAK RAFAEL | SEBRING | KERUPUK MAWAR...  21630   \n",
       "1  Seblak Instan Ceu Nthien Khas Bandung Rasana N...  17000   \n",
       "2            Seblak Rafael, Seblak Coet Instan Halal  25000   \n",
       "3             Seblak Rafael/Seblak Coet Instan Halal  26600   \n",
       "6                            SEBLAK INSTANT TERMURAH   4450   \n",
       "\n",
       "                        nama_toko               kota  terjual  rating  \n",
       "0             Toko kue Sumber Mas      Jakarta Timur       40     5.0  \n",
       "1        Central Seblak Nusantara  Tangerang Selatan     2000     4.9  \n",
       "2               Brother Meat Shop              Depok      500     5.0  \n",
       "3                      Foodstocks    Jakarta Selatan      500     4.9  \n",
       "6  Pusat Cuankie & Cemilan Frozen      Jakarta Timur    10000     4.8  "
      ]
     },
     "execution_count": 122,
     "metadata": {},
     "output_type": "execute_result"
    }
   ],
   "source": [
    "jabode.head()"
   ]
  },
  {
   "cell_type": "markdown",
   "metadata": {},
   "source": [
    "2 contoh di atas menunjukkan bahwa kita sudah memisahkan data mana yang jabodetabek dan data mana yang bukan berarti kodingan berhasil. \n",
    "next kita menghitung mean (rata-rata)setiap data sampel untuk pembukaan apakah secara sampel rata2 itu memang beda atau tidak ya. "
   ]
  },
  {
   "cell_type": "code",
   "execution_count": 123,
   "metadata": {},
   "outputs": [
    {
     "name": "stdout",
     "output_type": "stream",
     "text": [
      "rata rata harga jabodetabek adalah 47473.248730964464\n",
      "rata rata harga non jabodetabek adalah 23703.795454545456\n"
     ]
    }
   ],
   "source": [
    "rata2jak= jabode['harga'].mean()\n",
    "rata2nonjak = not_jabode['harga'].mean()\n",
    "\n",
    "print(f\"rata rata harga jabodetabek adalah {rata2jak}\")\n",
    "print(f\"rata rata harga non jabodetabek adalah {rata2nonjak}\")"
   ]
  },
  {
   "cell_type": "markdown",
   "metadata": {},
   "source": [
    "rata rata harga jabodetabek adalah 47473 dan rata rata harga non jabodetabek adalah 23703. dalam statistik deskriptif rata rata harga ini sebenarnya sudah membuktikan gamblang dan jelas bahwa perbedaan mean yang sangat jauh jadi memang rata2 harga jabodetabek dan non jabodetabek itu berbeda. Namun kita harus mengujinya secara statistik dengan metode yang disediakan oleh test statistik yaitu t-test. "
   ]
  },
  {
   "cell_type": "markdown",
   "metadata": {},
   "source": [
    "### Uji Statistik T test harga jabodetabek dan non jabodetabek\n",
    "\n",
    "##### H0 = rata-rata harga jabodetabek dan non jabodatabek adalah sama ( mean harga jabodetabek == mean harga nonjabodetabek)\n",
    "\n",
    "##### H1 = ada perbedaan rata-rata harga jabodetabek dan non jabodetabek  (mean harga jabodetabek != mean harga nonjabodetabek)\n",
    "\n",
    "Pada Uji ini kita memakai tingkat signifikansi 95 % yang berarti kita bisa yakin bahwa test kita memang benar dan kita siap menerima resiko bahwa 5% itu adanya kemungkinan false positif atau kita berasumsi bahwa rata-rata harga jabodetabek itu sama tapi kenyataanya itu beda. Untuk menguji lagi tentang keakuratan data ini maka kita bisa pakai pendekatan tingkat signifikansi 99 % atau 99,9% untuk memperkecil adanya false positif tersebut, uji yang 99% atau bahkan 99,9 % ini biasanya dipakai untuk uji statistik yang menyangkut nyawa misalkan uji obat atau uji keselamatan kendaraan.  \n",
    "\n",
    "Jika P-Value itu lebih dari 0,05 maka tak ada cukup bukti untuk menolak h0 tak bisa ditolak. dan jika P-Value itu kurang dari 0,05 maka kita menolak H0 dan mengambil asumsi H1. "
   ]
  },
  {
   "cell_type": "code",
   "execution_count": 124,
   "metadata": {},
   "outputs": [
    {
     "name": "stdout",
     "output_type": "stream",
     "text": [
      "T-Statistic: 2.3655391831479755\n",
      "P-value: 0.01826678682401359\n"
     ]
    }
   ],
   "source": [
    "'''kodingan di bawah ini adalah menentukan t stats dan p value. dengan menggunakan library scipy\n",
    "pada awalnya kita manggil dulu method t test dalam library scipy kemudian kita masukin parameter harga pada jabodetabek \n",
    "dan harga pada data frame bukan jabodetabek setelah itu keluarkan hasilnya'''\n",
    "\n",
    "t_stat, p_val = stats.ttest_ind(jabode['harga'], not_jabode['harga'])  # manggil fungsin dan masukin parameter \n",
    "# keluarin output\n",
    "print('T-Statistic:',t_stat)                                            # hasil t statistics                                            \n",
    "print('P-value:',p_val)                                                 # pemakaian langsung p-value tanpa dibagi 2 karena 2 arah"
   ]
  },
  {
   "cell_type": "markdown",
   "metadata": {},
   "source": [
    "T-Statistic: 2.37\n",
    "P-value: 0.018\n",
    "Kita mendapat hasilnya yaitu T Statistic dan P-Value. T statistics ini menunjukkan jika t statistics ini mendekati 0 maka tidak ada perbedaan antara data yang kita bandingkan. dalam kasus ini rata2 harga jabodetabek dan non jabodetabek. dari test ini menunjukkan bahwa ada perbedaan harga di jabodetabek dan non jabodetabek dengan ditunjukkan nilai T  statistics 2.37. \n",
    "\n",
    "Ditambah lagi P value kita mendapat hasil 0,018 karena kita memakai signifikansi 95 % maka kita memakai skala P-Value yaitu 5%. Jadi ini mengindikasikan bahwa \n",
    "0,01 itu lebih kecil dari pada 0,05. Hasil akhirnya kita berhasil menolak H0 dan mengambil H1 sebagai hipotesisnya yaitu ada perbedaan rata rata harga jabodetabek dan non jabodetabek\n",
    "\n",
    "\n",
    "#### kesimpulan\n",
    "\n",
    "Harga di jabodetabek itu lebih tinggi bila dibandingkan harga non jabodetabek pernyataan ini diuji dengan uji statistik dengan signifikansi level 95%. Jadi jika kita tahu bahwa lokasi kita di jabodetabek maka langkah yang diambil adalah fokus saja di pasar jabodetabek jangan pasar luar jabodetabek. Karena kita akan kalah ongkir dengan penjual penjual di luar jabodetabek. karena dari skala harga saja kita sudah kalah. Kemudian apabila kita cari supplier cari supplier yang berada di jabodetabek saja pertimbangan ini menghemat ongkir dan kecepatan transaksi kita. "
   ]
  },
  {
   "cell_type": "markdown",
   "metadata": {},
   "source": [
    "# Korelasi \n",
    "\n",
    "Kita sudah tau harga jabodetabek dan non jabodetabek serta rata-rata data penjualan dan harga seperti apa namun kita belum tahu pasar apa yang akan kita ambil ke depannya. Apakah kita ambil pasar premium profit per item lebih besar  atau dengan pasar rata2 yang mana profit per item lebih rendah. Sebagai pengusaha kita tidak boleh mengambil keputusan besar ini hanya dari karena kita suka produk premium maka kita akan berdagang seblak premium. Perlu diingat sebagai entrepreneur kita berjualan untuk memenuhi kebutuhan pasar bukan untuk memenuhi keinginan kita. "
   ]
  },
  {
   "cell_type": "markdown",
   "metadata": {},
   "source": [
    "Data apa yang bisa kita pakai sebagai bahan pertimbangan pasar. Disini kita akan memakai data unit terjual dan harga. Konsepnya kita akan memilih apakah kita akan bermain di pasar premium mungkin di kasus ini harga 25000 ke atas atau kita akan memilih pasar produk massal yang kemungkinan harganya di rentang 15000 an sesuai dengan median. Kita lihat hubungan korelasi antara Unit terjual dan harga. Jika korelasi itu positif yang mana semakin tinggi harga maka semakin banyak juga pembelinya dan keputusannya kita bisa mengambil pasar premium. Opsi kedua korelasi negatif jadi semakin harga murah maka unit terjual semakin banyak dan keputusannya kita mengambil pasar yang mass production. Jadi keputusan kita dalam pengambilan market itu merupakan keputusan yang data driven decision. "
   ]
  },
  {
   "cell_type": "code",
   "execution_count": 125,
   "metadata": {},
   "outputs": [
    {
     "data": {
      "text/plain": [
       "<seaborn.axisgrid.FacetGrid at 0x1e25a5bb3d0>"
      ]
     },
     "execution_count": 125,
     "metadata": {},
     "output_type": "execute_result"
    },
    {
     "data": {
      "image/png": "[encoded data removed]",
      "text/plain": [
       "<Figure size 500x500 with 1 Axes>"
      ]
     },
     "metadata": {},
     "output_type": "display_data"
    }
   ],
   "source": [
    "\n",
    "\n",
    "# lihat bagaimana bentuk dari data itu secara visual untuk menggambarkan\n",
    "# ini adalah penggambaran sebaran data ditambah dengan regresi linear nya\n",
    "sns.lmplot(data=df,x='terjual', y='harga')\n"
   ]
  },
  {
   "cell_type": "markdown",
   "metadata": {},
   "source": [
    "Datanya terdistorsi sekali karena ada data yang bernilai 3 juta itu. dan outlier lain lain. Kita handling dulu datanya supaya satu data 3juta itu terbuang dan outlier lain juga ikut dihilangkan dari data set."
   ]
  },
  {
   "cell_type": "code",
   "execution_count": 126,
   "metadata": {},
   "outputs": [
    {
     "name": "stdout",
     "output_type": "stream",
     "text": [
      "Upper Boundary: 53125.00\n",
      "Lower Boundary: -17875.00\n"
     ]
    }
   ],
   "source": [
    "\n",
    "''' outlier bisa dihitung dengan interquartile range dikali 1,5 ini adalah cara biasa untuk menentukan apakah suatu nilai masuk outlier atau tidak\n",
    "1,5 kai dari IQR itu akan ditambahkan dan dikurangkan dari q3 dan q1 persis seperti formula dibawah'''\n",
    "# menghilangkan outlier dengan interquartile range \n",
    "\n",
    "# menentukan q1 atau quartil bawah pada kolom harga \n",
    "q1 = df['harga'].quantile(0.25)\n",
    "#menentukan q3 atau quartil atas pada kolom harga\n",
    "q3 = df['harga'].quantile(0.75)\n",
    "\n",
    "# rumus interquartil range q3 - q1 digunakan untuk menghitung upper dan lower boundary\n",
    "iqr = q3-q1\n",
    "\n",
    "# upper boundary batas atas data itu masih masuk data normal bukan outlier(atas nilai ini adalah outlier)\n",
    "up_bound = q3 + 1.5*iqr\n",
    "\n",
    "#lower boundary batas bawah bahwa data itu masih masuk data normal  (bawah nilai ini adalah outlier) \n",
    "low_bound = q1 - 1.5*iqr\n",
    "\n",
    "print(f'Upper Boundary: {up_bound:.2f}' )\n",
    "print(f'Lower Boundary: {low_bound:.2f}')"
   ]
  },
  {
   "cell_type": "markdown",
   "metadata": {},
   "source": [
    "outlier sudah ditentukan harusnya data minus itu tidak mungkin karena harga terendah pasti 0. jadi kita anggap data ini tak punya data negatif. karena sistem online shop sendiri pada dasarnya tidak mungkin kita menampilkan data negatif pada penjualan jadi tidak perlu kita cek. data upper boundarynya yaitu 53125. jadi data diatas data ini merupakan outlier dan harus kita singkirkan terlebih dahulu dari data set supaya bersih"
   ]
  },
  {
   "cell_type": "code",
   "execution_count": 127,
   "metadata": {},
   "outputs": [
    {
     "data": {
      "text/plain": [
       "<seaborn.axisgrid.FacetGrid at 0x1e25a57ec50>"
      ]
     },
     "execution_count": 127,
     "metadata": {},
     "output_type": "execute_result"
    },
    {
     "data": {
      "image/png": "[encoded data removed]",
      "text/plain": [
       "<Figure size 500x500 with 1 Axes>"
      ]
     },
     "metadata": {},
     "output_type": "display_data"
    }
   ],
   "source": [
    "# membuat data frame tanpa outlier dikolom harga\n",
    "df_harga_bersih = df[df['harga']<= 53125]\n",
    "#memvisualisasikan bentuk tabel\n",
    "sns.lmplot(data=df_harga_bersih,x='terjual', y='harga')\n"
   ]
  },
  {
   "cell_type": "markdown",
   "metadata": {},
   "source": [
    "Dari data ini kita menyimpulkan garis regresi agak miring sedikit mendekat ke sumbu x yang artinya ada sedikit korelasi negatif. mungkin ini disebabkan oleh adanya outlier pada kolom terjual . maka coba hilangkan lagi outlier di kolom terjual supaya dataset benar benar bersih dari outlier baik dari kolom terjual maupun kolom harga."
   ]
  },
  {
   "cell_type": "code",
   "execution_count": 128,
   "metadata": {},
   "outputs": [
    {
     "name": "stdout",
     "output_type": "stream",
     "text": [
      "Upper Boundary: 592.00\n",
      "Lower Boundary: -320.00\n"
     ]
    }
   ],
   "source": [
    "# menghilangkan outlier dengan iqr\n",
    "# definisikan dulu quartil bawah dari dataset kolom terjual\n",
    "q1_terjual = df['terjual'].quantile(0.25)\n",
    "# definisikan dulu quartil atas dari dataset kolom terjual\n",
    "\n",
    "# interrangequartil\n",
    "q3_terjual = df['terjual'].quantile(0.75)\n",
    "# menghitung iqr kolom terjual\n",
    "iqr_terjual = q3_terjual-q1_terjual\n",
    "\n",
    "#penghitungan upper\n",
    "up_bound_terjual = q3_terjual + 1.5*iqr_terjual\n",
    "# penghitungan lower \n",
    "low_bound_terjual = q1_terjual - 1.5*iqr_terjual\n",
    "\n",
    "print(f'Upper Boundary: {up_bound_terjual:.2f}' )\n",
    "print(f'Lower Boundary: {low_bound_terjual:.2f}')"
   ]
  },
  {
   "cell_type": "markdown",
   "metadata": {},
   "source": [
    "Uper boundary sudah ditentukan sekarang kita bisa membersihkan dataset. Upper boundary ini yang akan kita gunakan karena sama konsepnya seperti harga tidak ada definisi terjual negatif.  "
   ]
  },
  {
   "cell_type": "code",
   "execution_count": 129,
   "metadata": {},
   "outputs": [
    {
     "data": {
      "text/html": [
       "<div>\n",
       "<style scoped>\n",
       "    .dataframe tbody tr th:only-of-type {\n",
       "        vertical-align: middle;\n",
       "    }\n",
       "\n",
       "    .dataframe tbody tr th {\n",
       "        vertical-align: top;\n",
       "    }\n",
       "\n",
       "    .dataframe thead th {\n",
       "        text-align: right;\n",
       "    }\n",
       "</style>\n",
       "<table border=\"1\" class=\"dataframe\">\n",
       "  <thead>\n",
       "    <tr style=\"text-align: right;\">\n",
       "      <th></th>\n",
       "      <th>nama_produk</th>\n",
       "      <th>harga</th>\n",
       "      <th>nama_toko</th>\n",
       "      <th>kota</th>\n",
       "      <th>terjual</th>\n",
       "      <th>rating</th>\n",
       "    </tr>\n",
       "  </thead>\n",
       "  <tbody>\n",
       "    <tr>\n",
       "      <th>0</th>\n",
       "      <td>KRUPUK SEBLAK RAFAEL | SEBRING | KERUPUK MAWAR...</td>\n",
       "      <td>21630</td>\n",
       "      <td>Toko kue Sumber Mas</td>\n",
       "      <td>Jakarta Timur</td>\n",
       "      <td>40</td>\n",
       "      <td>5.0</td>\n",
       "    </tr>\n",
       "    <tr>\n",
       "      <th>2</th>\n",
       "      <td>Seblak Rafael, Seblak Coet Instan Halal</td>\n",
       "      <td>25000</td>\n",
       "      <td>Brother Meat Shop</td>\n",
       "      <td>Depok</td>\n",
       "      <td>500</td>\n",
       "      <td>5.0</td>\n",
       "    </tr>\n",
       "    <tr>\n",
       "      <th>3</th>\n",
       "      <td>Seblak Rafael/Seblak Coet Instan Halal</td>\n",
       "      <td>26600</td>\n",
       "      <td>Foodstocks</td>\n",
       "      <td>Jakarta Selatan</td>\n",
       "      <td>500</td>\n",
       "      <td>4.9</td>\n",
       "    </tr>\n",
       "    <tr>\n",
       "      <th>4</th>\n",
       "      <td>Seblak instan komplit / seblak instan murah</td>\n",
       "      <td>5000</td>\n",
       "      <td>ismileusa_id</td>\n",
       "      <td>Kab. Bandung</td>\n",
       "      <td>100</td>\n",
       "      <td>4.7</td>\n",
       "    </tr>\n",
       "    <tr>\n",
       "      <th>10</th>\n",
       "      <td>KERUPUK SEBLAK MENTAH ANEKA WARNA - Matahari, ...</td>\n",
       "      <td>11500</td>\n",
       "      <td>jajanangarut19</td>\n",
       "      <td>Jakarta Selatan</td>\n",
       "      <td>500</td>\n",
       "      <td>4.8</td>\n",
       "    </tr>\n",
       "    <tr>\n",
       "      <th>...</th>\n",
       "      <td>...</td>\n",
       "      <td>...</td>\n",
       "      <td>...</td>\n",
       "      <td>...</td>\n",
       "      <td>...</td>\n",
       "      <td>...</td>\n",
       "    </tr>\n",
       "    <tr>\n",
       "      <th>797</th>\n",
       "      <td>seblak basreng pedas daun jeruk isi 1kg geram</td>\n",
       "      <td>50000</td>\n",
       "      <td>seblak barokah 07</td>\n",
       "      <td>Kab. Bandung</td>\n",
       "      <td>50</td>\n",
       "      <td>4.7</td>\n",
       "    </tr>\n",
       "    <tr>\n",
       "      <th>799</th>\n",
       "      <td>KERUPUK SEBLAK MENTAH ORANGE 250GR</td>\n",
       "      <td>5500</td>\n",
       "      <td>cemilanmentahjakarta</td>\n",
       "      <td>Jakarta Utara</td>\n",
       "      <td>30</td>\n",
       "      <td>5.0</td>\n",
       "    </tr>\n",
       "    <tr>\n",
       "      <th>800</th>\n",
       "      <td>kerupuk seblak Rafael 100g</td>\n",
       "      <td>6000</td>\n",
       "      <td>ADDARSNACK</td>\n",
       "      <td>Kab. Cianjur</td>\n",
       "      <td>29</td>\n",
       "      <td>4.9</td>\n",
       "    </tr>\n",
       "    <tr>\n",
       "      <th>801</th>\n",
       "      <td>pangsit segitiga, cipet isi 20 pcs topping bas...</td>\n",
       "      <td>6999</td>\n",
       "      <td>Culametan Food</td>\n",
       "      <td>Kab. Garut</td>\n",
       "      <td>11</td>\n",
       "      <td>5.0</td>\n",
       "    </tr>\n",
       "    <tr>\n",
       "      <th>802</th>\n",
       "      <td>PAKET BLAKKUR ( SEBLAK INSTAN, PILUS CIKUR PED...</td>\n",
       "      <td>30890</td>\n",
       "      <td>Sajodo Snack &amp; Food</td>\n",
       "      <td>Tasikmalaya</td>\n",
       "      <td>11</td>\n",
       "      <td>5.0</td>\n",
       "    </tr>\n",
       "  </tbody>\n",
       "</table>\n",
       "<p>560 rows × 6 columns</p>\n",
       "</div>"
      ],
      "text/plain": [
       "                                           nama_produk  harga  \\\n",
       "0    KRUPUK SEBLAK RAFAEL | SEBRING | KERUPUK MAWAR...  21630   \n",
       "2              Seblak Rafael, Seblak Coet Instan Halal  25000   \n",
       "3               Seblak Rafael/Seblak Coet Instan Halal  26600   \n",
       "4          Seblak instan komplit / seblak instan murah   5000   \n",
       "10   KERUPUK SEBLAK MENTAH ANEKA WARNA - Matahari, ...  11500   \n",
       "..                                                 ...    ...   \n",
       "797      seblak basreng pedas daun jeruk isi 1kg geram  50000   \n",
       "799                 KERUPUK SEBLAK MENTAH ORANGE 250GR   5500   \n",
       "800                         kerupuk seblak Rafael 100g   6000   \n",
       "801  pangsit segitiga, cipet isi 20 pcs topping bas...   6999   \n",
       "802  PAKET BLAKKUR ( SEBLAK INSTAN, PILUS CIKUR PED...  30890   \n",
       "\n",
       "                nama_toko             kota  terjual  rating  \n",
       "0     Toko kue Sumber Mas    Jakarta Timur       40     5.0  \n",
       "2       Brother Meat Shop            Depok      500     5.0  \n",
       "3              Foodstocks  Jakarta Selatan      500     4.9  \n",
       "4            ismileusa_id     Kab. Bandung      100     4.7  \n",
       "10         jajanangarut19  Jakarta Selatan      500     4.8  \n",
       "..                    ...              ...      ...     ...  \n",
       "797     seblak barokah 07     Kab. Bandung       50     4.7  \n",
       "799  cemilanmentahjakarta    Jakarta Utara       30     5.0  \n",
       "800            ADDARSNACK     Kab. Cianjur       29     4.9  \n",
       "801        Culametan Food       Kab. Garut       11     5.0  \n",
       "802   Sajodo Snack & Food      Tasikmalaya       11     5.0  \n",
       "\n",
       "[560 rows x 6 columns]"
      ]
     },
     "execution_count": 129,
     "metadata": {},
     "output_type": "execute_result"
    }
   ],
   "source": [
    "# membuat dataset baru tanpa kehadiran outlier\n",
    "df_no_outlier = df [(df['harga']<= 53125)&(df['terjual']<= 592 )]\n",
    "# menampilkan dataset yang telah dikoding\n",
    "df_no_outlier"
   ]
  },
  {
   "cell_type": "markdown",
   "metadata": {},
   "source": [
    "Terlihat output di atas data outlier sudah tak ada sekarang bisa kita tampilkan visualisasi serta garis regresinya"
   ]
  },
  {
   "cell_type": "code",
   "execution_count": 130,
   "metadata": {},
   "outputs": [
    {
     "data": {
      "text/plain": [
       "<seaborn.axisgrid.FacetGrid at 0x1e25a653550>"
      ]
     },
     "execution_count": 130,
     "metadata": {},
     "output_type": "execute_result"
    },
    {
     "data": {
      "image/png": "[encoded data removed]",
      "text/plain": [
       "<Figure size 500x500 with 1 Axes>"
      ]
     },
     "metadata": {},
     "output_type": "display_data"
    }
   ],
   "source": [
    "sns.lmplot(data =df_no_outlier ,x='terjual', y='harga')"
   ]
  },
  {
   "cell_type": "markdown",
   "metadata": {},
   "source": [
    "Bila kita bandingkan dengan 2 figure sebelumnya garis ini cenderung mendekati garis lurus dengan kemiringan sedikit sekali. Ini menunjukkan bahwa sebenarnya data ini tidak terpengaruh satu sama lain. jadi memang random saja. Untuk bukti lebih lanjut kita harus menghitung secara perhitungan statistik."
   ]
  },
  {
   "cell_type": "markdown",
   "metadata": {},
   "source": [
    "Kita menggunakan test spearmann untuk data set ini. untuk membandingkan pada kolom harga dan terjual apakah ada korelasinya. Mengapa Spearman korelasi yang kita pakai. Data kita masih mengandung outlier meskipun sudah dibersihkan. hal ini ditunjukkan dengan adanya masih banyaknya dot pada angka 500 maupun 50000 (angka ini adalah boundary atas dari kedua data). Hasil dari korelasi spearman tidak terpengaruh oleh outlier."
   ]
  },
  {
   "cell_type": "code",
   "execution_count": 131,
   "metadata": {},
   "outputs": [
    {
     "name": "stdout",
     "output_type": "stream",
     "text": [
      "rho-correlation: -0.00, p-value: 0.9419836308932296\n"
     ]
    }
   ],
   "source": [
    "# kode untuk korelasi spearman menggunakan scipy library\n",
    "corr_rho, pval_s = stats.spearmanr(df_no_outlier['harga'], df_no_outlier['terjual'])\n",
    "\n",
    "# mengeluarkan hasilnya\n",
    "print(f\"rho-correlation: {corr_rho:.2f}, p-value: {pval_s}\")"
   ]
  },
  {
   "cell_type": "markdown",
   "metadata": {},
   "source": [
    "Terbukti secara statistik bahwa korelasi antara harga dan unit terjual tidak ada. Ini dibuktikan dengan rho corelation 0 dan signifikan value 0,94. jadi ketika rho corelation 0 itu adalah tak ada korelasi. ini didukung oleh p-value 94%. yang mana jika kita mengambil signifikansi level itu 95% maka derajat eror kita adalah 5%. nah jika p-value dibandingkan dengan derajat eror (0,94 > 0,05) maka p value itu jauh lebih tinggi. Ini berarti kita tidak bisa menolak h0. h0 disini adalah harga dan unit terjual itu tidak berkorelasi. Jadi kita gagal menolak h0 atau harga dan unit terjual tidak berkorelasi. \n",
    "\n",
    "Bisnis Insight. \n",
    "\n",
    "Total terjual dan harga tidak terkorelasi. jadi saran keputusan bisnis untuk startup seblak online kita adalah kita bisa mengambil segmen pasar manapun sesuai dengan keinginan kita. karena baik pasar premium atau pasar biasa tidak berkorelasi signifikan. Jika kita ingin cepat mencapai angka 10 juta maka pasar premium lebih dipilih. Meskipun pada pasar segmen rendah bisa juga tercapai namun mempunyai kelemahan yaitu pencapaiannya jauh lebih membutuhkan penjualan yang lebih banyak.  "
   ]
  },
  {
   "cell_type": "markdown",
   "metadata": {},
   "source": [
    "# Kesimpulan\n",
    "\n",
    "Kita harus kumpulkan kesimpulan apa yang kita dapat setelah melakukan data analisis ini dan insight apa yang bisa dapatkan serta mungkin saran yang harus dilakukan untuk bisnis jualan seblak online ini. \n",
    "1. Median harga seblak di angka 15000 rupiah sedangkan rata-rata harga jauh di angka 30000. Jadi bisa berasumsi tipikal harga produk seblak itu berada di angka 15000 an. \n",
    "2. Median produk terjual di angka 80, namun setelah kita asumsikan data ini normal dan kita melakukan uji test kita bisa mendapatkan hasil bahwa kita yakin dengan derajat signifikan 95% bahwa kita bisa menjual seblak 400 unit per bulan karena rentang produk terjual masih di angka 350 - 540. \n",
    "3. Rating rata2 4,4 dan median 4,9. Untuk memastikan bahwa kita mencapai target 10 juta, maka ada target untuk kita untuk mendapat bintang 5 atau mempertahankan 4,9. karena kebanyakan data penjual berkumpul di titik 4,9. \n",
    "4. Harga di jabodetabek dan luar jabodetabek berbeda karena kita tinggal di jabodetabek sebaiknya kita fokus untuk menggarap pasar lokal dulu dan mengambil supplier kita dari jabodetabek saja untuk memastikan bahwa layanan kita cepat sampai. \n",
    "5. Produk terjual tidak terpengaruh harga sama sekali. Bisa kita mengambil segmen manapun tanpa peduli potensi pasar, karena potensi pasar sama-sama memungkinkan. \n",
    "\n",
    "\n",
    "Untuk mencapai 10 juta dalam waktu 2 bulan atau lebih cepat maka disini saya bisa memberikan keputusan bahwa kita bisa mengambil segmen pasar yang premium. Ini dikarenakan pasar tidak terpengaruh sekali oleh harga jual. Jadi kita bisa berfokus kepada produk dan meningkatkan pelayanan kita. Sebagai tambahan juga besarnya profit per unit itu akan kita gunakan untuk menutupi biaya iklan kita di awal. \n",
    "\n",
    "Kita sangat yakin dengan mengambil rata2 penjualan 400 unit berdasarkan confidence interval 95% maka target kita 10 juta itu akan bisa dicapai dalam waktu 1 bulan. Hitugannya adalah dengan asumsi kita mengambil segmen harga premium yaitu 25000 dan dikali dengan 400 unit maka hasilnya 10 juta (Unit terjual masih masuk rentang rata2 hasil analisis tes).\n",
    "\n",
    " Karena kita berfokus di jabodetabek dan bukti pasar menunjukkan bahwa harga di jabodetabek memang lebih mahal dibandingkan daerah selain jabodetabek. Seharusnya kita bisa fokus untuk targetting iklan di area jabodetabek. Ditambah lagi Jabodetabek sendiri adalah awal dari kita merintis serta cocok dengan profil segmen kita yang cenderung premium.\n",
    "  \n",
    "Kita perlu untuk investasi di awal yaitu biaya iklan karena berdasarkan data median produk terjual, lebih dari 50% penjual hanya mampu menjual produknya sekitar plus minus 80 unit. Jadi biaya iklan di awal adalah wajib untuk usaha kita ini karena kita harus memenangkan persaingan dengan menampilkan iklan kita di halaman pertama tokopedia. Jadi dengan pengambilan segmen premium dan fokus iklan di area target kita sangat mungkin sekali kita meraih 10 juta dalam 2bulan.  "
   ]
  },
  {
   "cell_type": "code",
   "execution_count": 132,
   "metadata": {},
   "outputs": [],
   "source": [
    "# save new data\n",
    "df.to_csv(\"dataframe_cleaned.csv\", index=False)\n"
   ]
  }
 ],
 "metadata": {
  "kernelspec": {
   "display_name": "base",
   "language": "python",
   "name": "python3"
  },
  "language_info": {
   "codemirror_mode": {
    "name": "ipython",
    "version": 3
   },
   "file_extension": ".py",
   "mimetype": "text/x-python",
   "name": "python",
   "nbconvert_exporter": "python",
   "pygments_lexer": "ipython3",
   "version": "3.11.9"
  }
 },
 "nbformat": 4,
 "nbformat_minor": 2
}
